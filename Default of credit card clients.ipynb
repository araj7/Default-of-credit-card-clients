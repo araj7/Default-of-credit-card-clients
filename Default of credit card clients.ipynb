{
 "cells": [
  {
   "cell_type": "markdown",
   "metadata": {},
   "source": [
    "### Reading Libraries and Dataset"
   ]
  },
  {
   "cell_type": "code",
   "execution_count": 386,
   "metadata": {},
   "outputs": [],
   "source": [
    "import pandas as pd\n",
    "import numpy as np\n",
    "import seaborn as sns\n",
    "import matplotlib.pyplot as plt\n",
    "from sklearn.model_selection import train_test_split\n",
    "from sklearn.linear_model import LogisticRegression\n",
    "from sklearn.linear_model import LinearRegression\n",
    "from sklearn.metrics import accuracy_score\n",
    "from sklearn.metrics import confusion_matrix\n",
    "from sklearn.metrics import f1_score\n",
    "from sklearn.metrics import classification_report\n",
    "from sklearn.metrics import roc_curve\n",
    "from sklearn.ensemble import RandomForestClassifier\n",
    "from sklearn import metrics\n",
    "from sklearn.neighbors import KNeighborsClassifier\n",
    "from sklearn.tree import DecisionTreeClassifier\n",
    "from sklearn.naive_bayes import GaussianNB\n",
    "from sklearn.preprocessing import MinMaxScaler\n",
    "from tensorflow.keras.models import Sequential\n",
    "from tensorflow.keras.layers import Dense\n",
    "from tensorflow.keras.models import load_model\n",
    "from sklearn.metrics import mean_absolute_error, mean_squared_error"
   ]
  },
  {
   "cell_type": "code",
   "execution_count": 349,
   "metadata": {},
   "outputs": [],
   "source": [
    "pd.set_option('display.max_rows', 500)\n",
    "pd.set_option('display.max_columns', 500)"
   ]
  },
  {
   "cell_type": "code",
   "execution_count": 350,
   "metadata": {},
   "outputs": [],
   "source": [
    "df = pd.read_csv('C:/Users/amitr/Desktop/default of credit card clients.csv')"
   ]
  },
  {
   "cell_type": "code",
   "execution_count": 290,
   "metadata": {},
   "outputs": [
    {
     "data": {
      "text/html": [
       "<div>\n",
       "<style scoped>\n",
       "    .dataframe tbody tr th:only-of-type {\n",
       "        vertical-align: middle;\n",
       "    }\n",
       "\n",
       "    .dataframe tbody tr th {\n",
       "        vertical-align: top;\n",
       "    }\n",
       "\n",
       "    .dataframe thead th {\n",
       "        text-align: right;\n",
       "    }\n",
       "</style>\n",
       "<table border=\"1\" class=\"dataframe\">\n",
       "  <thead>\n",
       "    <tr style=\"text-align: right;\">\n",
       "      <th></th>\n",
       "      <th>ID</th>\n",
       "      <th>LIMIT_BAL</th>\n",
       "      <th>SEX</th>\n",
       "      <th>EDUCATION</th>\n",
       "      <th>MARRIAGE</th>\n",
       "      <th>AGE</th>\n",
       "      <th>PAY_1</th>\n",
       "      <th>PAY_2</th>\n",
       "      <th>PAY_3</th>\n",
       "      <th>PAY_4</th>\n",
       "      <th>PAY_5</th>\n",
       "      <th>PAY_6</th>\n",
       "      <th>BILL_AMT1</th>\n",
       "      <th>BILL_AMT2</th>\n",
       "      <th>BILL_AMT3</th>\n",
       "      <th>BILL_AMT4</th>\n",
       "      <th>BILL_AMT5</th>\n",
       "      <th>BILL_AMT6</th>\n",
       "      <th>PAY_AMT1</th>\n",
       "      <th>PAY_AMT2</th>\n",
       "      <th>PAY_AMT3</th>\n",
       "      <th>PAY_AMT4</th>\n",
       "      <th>PAY_AMT5</th>\n",
       "      <th>PAY_AMT6</th>\n",
       "      <th>dpnm</th>\n",
       "    </tr>\n",
       "  </thead>\n",
       "  <tbody>\n",
       "    <tr>\n",
       "      <th>0</th>\n",
       "      <td>1</td>\n",
       "      <td>20000</td>\n",
       "      <td>2</td>\n",
       "      <td>2</td>\n",
       "      <td>1</td>\n",
       "      <td>24</td>\n",
       "      <td>2</td>\n",
       "      <td>2</td>\n",
       "      <td>-1</td>\n",
       "      <td>-1</td>\n",
       "      <td>-2</td>\n",
       "      <td>-2</td>\n",
       "      <td>3913</td>\n",
       "      <td>3102</td>\n",
       "      <td>689</td>\n",
       "      <td>0</td>\n",
       "      <td>0</td>\n",
       "      <td>0</td>\n",
       "      <td>0</td>\n",
       "      <td>689</td>\n",
       "      <td>0</td>\n",
       "      <td>0</td>\n",
       "      <td>0</td>\n",
       "      <td>0</td>\n",
       "      <td>1</td>\n",
       "    </tr>\n",
       "    <tr>\n",
       "      <th>1</th>\n",
       "      <td>2</td>\n",
       "      <td>120000</td>\n",
       "      <td>2</td>\n",
       "      <td>2</td>\n",
       "      <td>2</td>\n",
       "      <td>26</td>\n",
       "      <td>-1</td>\n",
       "      <td>2</td>\n",
       "      <td>0</td>\n",
       "      <td>0</td>\n",
       "      <td>0</td>\n",
       "      <td>2</td>\n",
       "      <td>2682</td>\n",
       "      <td>1725</td>\n",
       "      <td>2682</td>\n",
       "      <td>3272</td>\n",
       "      <td>3455</td>\n",
       "      <td>3261</td>\n",
       "      <td>0</td>\n",
       "      <td>1000</td>\n",
       "      <td>1000</td>\n",
       "      <td>1000</td>\n",
       "      <td>0</td>\n",
       "      <td>2000</td>\n",
       "      <td>1</td>\n",
       "    </tr>\n",
       "    <tr>\n",
       "      <th>2</th>\n",
       "      <td>3</td>\n",
       "      <td>90000</td>\n",
       "      <td>2</td>\n",
       "      <td>2</td>\n",
       "      <td>2</td>\n",
       "      <td>34</td>\n",
       "      <td>0</td>\n",
       "      <td>0</td>\n",
       "      <td>0</td>\n",
       "      <td>0</td>\n",
       "      <td>0</td>\n",
       "      <td>0</td>\n",
       "      <td>29239</td>\n",
       "      <td>14027</td>\n",
       "      <td>13559</td>\n",
       "      <td>14331</td>\n",
       "      <td>14948</td>\n",
       "      <td>15549</td>\n",
       "      <td>1518</td>\n",
       "      <td>1500</td>\n",
       "      <td>1000</td>\n",
       "      <td>1000</td>\n",
       "      <td>1000</td>\n",
       "      <td>5000</td>\n",
       "      <td>0</td>\n",
       "    </tr>\n",
       "    <tr>\n",
       "      <th>3</th>\n",
       "      <td>4</td>\n",
       "      <td>50000</td>\n",
       "      <td>2</td>\n",
       "      <td>2</td>\n",
       "      <td>1</td>\n",
       "      <td>37</td>\n",
       "      <td>0</td>\n",
       "      <td>0</td>\n",
       "      <td>0</td>\n",
       "      <td>0</td>\n",
       "      <td>0</td>\n",
       "      <td>0</td>\n",
       "      <td>46990</td>\n",
       "      <td>48233</td>\n",
       "      <td>49291</td>\n",
       "      <td>28314</td>\n",
       "      <td>28959</td>\n",
       "      <td>29547</td>\n",
       "      <td>2000</td>\n",
       "      <td>2019</td>\n",
       "      <td>1200</td>\n",
       "      <td>1100</td>\n",
       "      <td>1069</td>\n",
       "      <td>1000</td>\n",
       "      <td>0</td>\n",
       "    </tr>\n",
       "    <tr>\n",
       "      <th>4</th>\n",
       "      <td>5</td>\n",
       "      <td>50000</td>\n",
       "      <td>1</td>\n",
       "      <td>2</td>\n",
       "      <td>1</td>\n",
       "      <td>57</td>\n",
       "      <td>-1</td>\n",
       "      <td>0</td>\n",
       "      <td>-1</td>\n",
       "      <td>0</td>\n",
       "      <td>0</td>\n",
       "      <td>0</td>\n",
       "      <td>8617</td>\n",
       "      <td>5670</td>\n",
       "      <td>35835</td>\n",
       "      <td>20940</td>\n",
       "      <td>19146</td>\n",
       "      <td>19131</td>\n",
       "      <td>2000</td>\n",
       "      <td>36681</td>\n",
       "      <td>10000</td>\n",
       "      <td>9000</td>\n",
       "      <td>689</td>\n",
       "      <td>679</td>\n",
       "      <td>0</td>\n",
       "    </tr>\n",
       "  </tbody>\n",
       "</table>\n",
       "</div>"
      ],
      "text/plain": [
       "   ID  LIMIT_BAL  SEX  EDUCATION  MARRIAGE  AGE  PAY_1  PAY_2  PAY_3  PAY_4  \\\n",
       "0   1      20000    2          2         1   24      2      2     -1     -1   \n",
       "1   2     120000    2          2         2   26     -1      2      0      0   \n",
       "2   3      90000    2          2         2   34      0      0      0      0   \n",
       "3   4      50000    2          2         1   37      0      0      0      0   \n",
       "4   5      50000    1          2         1   57     -1      0     -1      0   \n",
       "\n",
       "   PAY_5  PAY_6  BILL_AMT1  BILL_AMT2  BILL_AMT3  BILL_AMT4  BILL_AMT5  \\\n",
       "0     -2     -2       3913       3102        689          0          0   \n",
       "1      0      2       2682       1725       2682       3272       3455   \n",
       "2      0      0      29239      14027      13559      14331      14948   \n",
       "3      0      0      46990      48233      49291      28314      28959   \n",
       "4      0      0       8617       5670      35835      20940      19146   \n",
       "\n",
       "   BILL_AMT6  PAY_AMT1  PAY_AMT2  PAY_AMT3  PAY_AMT4  PAY_AMT5  PAY_AMT6  dpnm  \n",
       "0          0         0       689         0         0         0         0     1  \n",
       "1       3261         0      1000      1000      1000         0      2000     1  \n",
       "2      15549      1518      1500      1000      1000      1000      5000     0  \n",
       "3      29547      2000      2019      1200      1100      1069      1000     0  \n",
       "4      19131      2000     36681     10000      9000       689       679     0  "
      ]
     },
     "execution_count": 290,
     "metadata": {},
     "output_type": "execute_result"
    }
   ],
   "source": [
    "df.head()"
   ]
  },
  {
   "cell_type": "markdown",
   "metadata": {},
   "source": [
    "### Preprocessing and EDA"
   ]
  },
  {
   "cell_type": "code",
   "execution_count": 291,
   "metadata": {},
   "outputs": [],
   "source": [
    "corr = df[df.columns[1:]].corr()['dpnm'][:]"
   ]
  },
  {
   "cell_type": "code",
   "execution_count": 292,
   "metadata": {},
   "outputs": [],
   "source": [
    "mask = np.triu(np.ones_like(corr, dtype=bool))\n",
    "cmap = sns.diverging_palette(230, 20, as_cmap=True)"
   ]
  },
  {
   "cell_type": "code",
   "execution_count": 293,
   "metadata": {},
   "outputs": [
    {
     "data": {
      "text/plain": [
       "<matplotlib.axes._subplots.AxesSubplot at 0x29eb66fac08>"
      ]
     },
     "execution_count": 293,
     "metadata": {},
     "output_type": "execute_result"
    },
    {
     "data": {
      "image/png": "[encoded data removed]",
      "text/plain": [
       "<Figure size 1440x720 with 2 Axes>"
      ]
     },
     "metadata": {
      "needs_background": "light"
     },
     "output_type": "display_data"
    }
   ],
   "source": [
    "plt.figure(figsize=(20,10))\n",
    "sns.heatmap(df.corr(), annot = True, vmin=-1, vmax=1, center= 0, cmap= 'hsv', linecolor='black', linewidth=1)"
   ]
  },
  {
   "cell_type": "code",
   "execution_count": 294,
   "metadata": {},
   "outputs": [
    {
     "data": {
      "text/plain": [
       "LIMIT_BAL   -0.153520\n",
       "SEX         -0.039961\n",
       "EDUCATION    0.028006\n",
       "MARRIAGE    -0.024339\n",
       "AGE          0.013890\n",
       "PAY_1        0.324794\n",
       "PAY_2        0.263551\n",
       "PAY_3        0.235253\n",
       "PAY_4        0.216614\n",
       "PAY_5        0.204149\n",
       "PAY_6        0.186866\n",
       "BILL_AMT1   -0.019644\n",
       "BILL_AMT2   -0.014193\n",
       "BILL_AMT3   -0.014076\n",
       "BILL_AMT4   -0.010156\n",
       "BILL_AMT5   -0.006760\n",
       "BILL_AMT6   -0.005372\n",
       "PAY_AMT1    -0.072929\n",
       "PAY_AMT2    -0.058579\n",
       "PAY_AMT3    -0.056250\n",
       "PAY_AMT4    -0.056827\n",
       "PAY_AMT5    -0.055124\n",
       "PAY_AMT6    -0.053183\n",
       "dpnm         1.000000\n",
       "Name: dpnm, dtype: float64"
      ]
     },
     "execution_count": 294,
     "metadata": {},
     "output_type": "execute_result"
    }
   ],
   "source": [
    "corr"
   ]
  },
  {
   "cell_type": "code",
   "execution_count": 295,
   "metadata": {},
   "outputs": [
    {
     "ename": "ValueError",
     "evalue": "markers must be a singeton or a list of markers for each level of the hue variable",
     "output_type": "error",
     "traceback": [
      "\u001b[1;31m---------------------------------------------------------------------------\u001b[0m",
      "\u001b[1;31mValueError\u001b[0m                                Traceback (most recent call last)",
      "\u001b[1;32m<ipython-input-295-1311167af09a>\u001b[0m in \u001b[0;36m<module>\u001b[1;34m\u001b[0m\n\u001b[1;32m----> 1\u001b[1;33m \u001b[0msns\u001b[0m\u001b[1;33m.\u001b[0m\u001b[0mlmplot\u001b[0m\u001b[1;33m(\u001b[0m\u001b[0mx\u001b[0m\u001b[1;33m=\u001b[0m\u001b[1;34m'dpnm'\u001b[0m\u001b[1;33m,\u001b[0m \u001b[0my\u001b[0m\u001b[1;33m=\u001b[0m\u001b[1;34m'EDUCATION'\u001b[0m\u001b[1;33m,\u001b[0m \u001b[0mdata\u001b[0m \u001b[1;33m=\u001b[0m \u001b[0mdf\u001b[0m\u001b[1;33m,\u001b[0m \u001b[0mhue\u001b[0m\u001b[1;33m=\u001b[0m\u001b[1;34m'ID'\u001b[0m\u001b[1;33m,\u001b[0m \u001b[0mmarkers\u001b[0m\u001b[1;33m=\u001b[0m\u001b[1;33m[\u001b[0m\u001b[1;34m'o'\u001b[0m\u001b[1;33m,\u001b[0m\u001b[1;34m'v'\u001b[0m\u001b[1;33m]\u001b[0m\u001b[1;33m,\u001b[0m \u001b[0mscatter_kws\u001b[0m\u001b[1;33m=\u001b[0m\u001b[1;33m{\u001b[0m\u001b[1;34m's'\u001b[0m\u001b[1;33m:\u001b[0m\u001b[1;36m50\u001b[0m\u001b[1;33m}\u001b[0m\u001b[1;33m)\u001b[0m\u001b[1;33m\u001b[0m\u001b[1;33m\u001b[0m\u001b[0m\n\u001b[0m",
      "\u001b[1;32m~\\anaconda3\\lib\\site-packages\\seaborn\\regression.py\u001b[0m in \u001b[0;36mlmplot\u001b[1;34m(x, y, data, hue, col, row, palette, col_wrap, height, aspect, markers, sharex, sharey, hue_order, col_order, row_order, legend, legend_out, x_estimator, x_bins, x_ci, scatter, fit_reg, ci, n_boot, units, seed, order, logistic, lowess, robust, logx, x_partial, y_partial, truncate, x_jitter, y_jitter, scatter_kws, line_kws, size)\u001b[0m\n\u001b[0;32m    595\u001b[0m         \u001b[0mmarkers\u001b[0m \u001b[1;33m=\u001b[0m \u001b[1;33m[\u001b[0m\u001b[0mmarkers\u001b[0m\u001b[1;33m]\u001b[0m \u001b[1;33m*\u001b[0m \u001b[0mn_markers\u001b[0m\u001b[1;33m\u001b[0m\u001b[1;33m\u001b[0m\u001b[0m\n\u001b[0;32m    596\u001b[0m     \u001b[1;32mif\u001b[0m \u001b[0mlen\u001b[0m\u001b[1;33m(\u001b[0m\u001b[0mmarkers\u001b[0m\u001b[1;33m)\u001b[0m \u001b[1;33m!=\u001b[0m \u001b[0mn_markers\u001b[0m\u001b[1;33m:\u001b[0m\u001b[1;33m\u001b[0m\u001b[1;33m\u001b[0m\u001b[0m\n\u001b[1;32m--> 597\u001b[1;33m         raise ValueError((\"markers must be a singeton or a list of markers \"\n\u001b[0m\u001b[0;32m    598\u001b[0m                           \"for each level of the hue variable\"))\n\u001b[0;32m    599\u001b[0m     \u001b[0mfacets\u001b[0m\u001b[1;33m.\u001b[0m\u001b[0mhue_kws\u001b[0m \u001b[1;33m=\u001b[0m \u001b[1;33m{\u001b[0m\u001b[1;34m\"marker\"\u001b[0m\u001b[1;33m:\u001b[0m \u001b[0mmarkers\u001b[0m\u001b[1;33m}\u001b[0m\u001b[1;33m\u001b[0m\u001b[1;33m\u001b[0m\u001b[0m\n",
      "\u001b[1;31mValueError\u001b[0m: markers must be a singeton or a list of markers for each level of the hue variable"
     ]
    },
    {
     "data": {
      "image/png": "[encoded data removed]",
      "text/plain": [
       "<Figure size 360x360 with 1 Axes>"
      ]
     },
     "metadata": {
      "needs_background": "light"
     },
     "output_type": "display_data"
    }
   ],
   "source": [
    "sns.lmplot(x='dpnm', y='EDUCATION', data = df, hue='ID', markers=['o','v'], scatter_kws={'s':50})"
   ]
  },
  {
   "cell_type": "code",
   "execution_count": 351,
   "metadata": {},
   "outputs": [],
   "source": [
    "dummies = pd.get_dummies(df.SEX)   # One hot encoding the SEX column\n",
    "df = pd.concat([df, dummies], axis=1)\n",
    "del df['SEX']"
   ]
  },
  {
   "cell_type": "code",
   "execution_count": 352,
   "metadata": {},
   "outputs": [],
   "source": [
    "dummies = pd.get_dummies(df.EDUCATION)   # One hot encoding the EDUCATION column\n",
    "df = pd.concat([df, dummies], axis=1)\n",
    "del df['EDUCATION']"
   ]
  },
  {
   "cell_type": "code",
   "execution_count": 353,
   "metadata": {},
   "outputs": [],
   "source": [
    "dummies = pd.get_dummies(df.MARRIAGE)   # One hot encoding the MARRIAGE column\n",
    "df = pd.concat([df, dummies], axis=1)\n",
    "del df['MARRIAGE']"
   ]
  },
  {
   "cell_type": "code",
   "execution_count": 362,
   "metadata": {},
   "outputs": [],
   "source": [
    "df[1] = df[1].astype(object)\n",
    "df[2] = df[2].astype(object)\n",
    "df[0] = df[0].astype(object)\n",
    "df[1] = df[1].astype(object)\n",
    "df[2] = df[2].astype(object)\n",
    "df[3] = df[3].astype(object)\n",
    "df[4] = df[4].astype(object)\n",
    "df[5] = df[5].astype(object)\n",
    "df[6] = df[6].astype(object)"
   ]
  },
  {
   "cell_type": "code",
   "execution_count": 394,
   "metadata": {},
   "outputs": [
    {
     "data": {
      "text/plain": [
       "ID            int64\n",
       "LIMIT_BAL     int64\n",
       "AGE           int64\n",
       "PAY_1         int64\n",
       "PAY_2         int64\n",
       "PAY_3         int64\n",
       "PAY_4         int64\n",
       "PAY_5         int64\n",
       "PAY_6         int64\n",
       "BILL_AMT1     int64\n",
       "BILL_AMT2     int64\n",
       "BILL_AMT3     int64\n",
       "BILL_AMT4     int64\n",
       "BILL_AMT5     int64\n",
       "BILL_AMT6     int64\n",
       "PAY_AMT1      int64\n",
       "PAY_AMT2      int64\n",
       "PAY_AMT3      int64\n",
       "PAY_AMT4      int64\n",
       "PAY_AMT5      int64\n",
       "PAY_AMT6      int64\n",
       "dpnm          int64\n",
       "1            object\n",
       "2            object\n",
       "0            object\n",
       "1            object\n",
       "2            object\n",
       "3            object\n",
       "4            object\n",
       "5            object\n",
       "6            object\n",
       "0            object\n",
       "1            object\n",
       "2            object\n",
       "3            object\n",
       "dtype: object"
      ]
     },
     "execution_count": 394,
     "metadata": {},
     "output_type": "execute_result"
    }
   ],
   "source": [
    "df.dtypes"
   ]
  },
  {
   "cell_type": "code",
   "execution_count": null,
   "metadata": {},
   "outputs": [],
   "source": [
    "df.columns"
   ]
  },
  {
   "cell_type": "markdown",
   "metadata": {},
   "source": [
    "### Train Test Split"
   ]
  },
  {
   "cell_type": "code",
   "execution_count": 354,
   "metadata": {},
   "outputs": [],
   "source": [
    "X = df.drop('dpnm', axis = 1)\n",
    "y = df['dpnm']"
   ]
  },
  {
   "cell_type": "code",
   "execution_count": 355,
   "metadata": {},
   "outputs": [],
   "source": [
    "X_train, X_test, y_train, y_test = train_test_split(X, y, test_size=0.3, random_state=42)"
   ]
  },
  {
   "cell_type": "code",
   "execution_count": 356,
   "metadata": {},
   "outputs": [
    {
     "data": {
      "text/plain": [
       "2308     0\n",
       "22404    0\n",
       "23397    0\n",
       "25058    0\n",
       "2664     1\n",
       "Name: dpnm, dtype: int64"
      ]
     },
     "execution_count": 356,
     "metadata": {},
     "output_type": "execute_result"
    }
   ],
   "source": [
    "y_test.head()"
   ]
  },
  {
   "cell_type": "markdown",
   "metadata": {},
   "source": [
    "### Logistic Regression"
   ]
  },
  {
   "cell_type": "code",
   "execution_count": 296,
   "metadata": {},
   "outputs": [],
   "source": [
    "lr = LogisticRegression()"
   ]
  },
  {
   "cell_type": "code",
   "execution_count": 297,
   "metadata": {},
   "outputs": [
    {
     "name": "stderr",
     "output_type": "stream",
     "text": [
      "C:\\Users\\amitr\\anaconda3\\lib\\site-packages\\sklearn\\linear_model\\_logistic.py:940: ConvergenceWarning: lbfgs failed to converge (status=1):\n",
      "STOP: TOTAL NO. of ITERATIONS REACHED LIMIT.\n",
      "\n",
      "Increase the number of iterations (max_iter) or scale the data as shown in:\n",
      "    https://scikit-learn.org/stable/modules/preprocessing.html\n",
      "Please also refer to the documentation for alternative solver options:\n",
      "    https://scikit-learn.org/stable/modules/linear_model.html#logistic-regression\n",
      "  extra_warning_msg=_LOGISTIC_SOLVER_CONVERGENCE_MSG)\n"
     ]
    },
    {
     "data": {
      "text/plain": [
       "LogisticRegression(C=1.0, class_weight=None, dual=False, fit_intercept=True,\n",
       "                   intercept_scaling=1, l1_ratio=None, max_iter=100,\n",
       "                   multi_class='auto', n_jobs=None, penalty='l2',\n",
       "                   random_state=None, solver='lbfgs', tol=0.0001, verbose=0,\n",
       "                   warm_start=False)"
      ]
     },
     "execution_count": 297,
     "metadata": {},
     "output_type": "execute_result"
    }
   ],
   "source": [
    "lr.fit(X_train, y_train)"
   ]
  },
  {
   "cell_type": "code",
   "execution_count": 298,
   "metadata": {},
   "outputs": [],
   "source": [
    "prediction = lr.predict(X_test)"
   ]
  },
  {
   "cell_type": "code",
   "execution_count": 299,
   "metadata": {},
   "outputs": [
    {
     "name": "stdout",
     "output_type": "stream",
     "text": [
      "              precision    recall  f1-score   support\n",
      "\n",
      "           0       0.78      1.00      0.88      7058\n",
      "           1       0.00      0.00      0.00      1942\n",
      "\n",
      "    accuracy                           0.78      9000\n",
      "   macro avg       0.39      0.50      0.44      9000\n",
      "weighted avg       0.61      0.78      0.69      9000\n",
      "\n"
     ]
    }
   ],
   "source": [
    "print(classification_report(y_test, prediction))"
   ]
  },
  {
   "cell_type": "code",
   "execution_count": 300,
   "metadata": {},
   "outputs": [
    {
     "data": {
      "text/plain": [
       "array([[7056,    2],\n",
       "       [1942,    0]], dtype=int64)"
      ]
     },
     "execution_count": 300,
     "metadata": {},
     "output_type": "execute_result"
    }
   ],
   "source": [
    "confusion_matrix(y_test, prediction)"
   ]
  },
  {
   "cell_type": "code",
   "execution_count": 301,
   "metadata": {},
   "outputs": [
    {
     "data": {
      "text/plain": [
       "<matplotlib.axes._subplots.AxesSubplot at 0x29ef1243388>"
      ]
     },
     "execution_count": 301,
     "metadata": {},
     "output_type": "execute_result"
    },
    {
     "data": {
      "image/png": "[encoded data removed]",
      "text/plain": [
       "<Figure size 432x288 with 1 Axes>"
      ]
     },
     "metadata": {
      "needs_background": "light"
     },
     "output_type": "display_data"
    }
   ],
   "source": [
    "sns.heatmap(cm, annot=True, cbar=False, cmap='viridis')"
   ]
  },
  {
   "cell_type": "markdown",
   "metadata": {},
   "source": [
    "### K Nearest Classifier"
   ]
  },
  {
   "cell_type": "code",
   "execution_count": 302,
   "metadata": {},
   "outputs": [],
   "source": [
    "knn = KNeighborsClassifier(n_neighbors=1)"
   ]
  },
  {
   "cell_type": "code",
   "execution_count": 303,
   "metadata": {},
   "outputs": [
    {
     "data": {
      "text/plain": [
       "KNeighborsClassifier(algorithm='auto', leaf_size=30, metric='minkowski',\n",
       "                     metric_params=None, n_jobs=None, n_neighbors=1, p=2,\n",
       "                     weights='uniform')"
      ]
     },
     "execution_count": 303,
     "metadata": {},
     "output_type": "execute_result"
    }
   ],
   "source": [
    "knn.fit(X_train,y_train)"
   ]
  },
  {
   "cell_type": "code",
   "execution_count": 304,
   "metadata": {},
   "outputs": [],
   "source": [
    "pred = knn.predict(X_test)"
   ]
  },
  {
   "cell_type": "code",
   "execution_count": 305,
   "metadata": {},
   "outputs": [
    {
     "name": "stdout",
     "output_type": "stream",
     "text": [
      "              precision    recall  f1-score   support\n",
      "\n",
      "           0       0.80      0.80      0.80      7058\n",
      "           1       0.28      0.29      0.28      1942\n",
      "\n",
      "    accuracy                           0.69      9000\n",
      "   macro avg       0.54      0.54      0.54      9000\n",
      "weighted avg       0.69      0.69      0.69      9000\n",
      "\n"
     ]
    }
   ],
   "source": [
    "print(classification_report(y_test, pred))"
   ]
  },
  {
   "cell_type": "code",
   "execution_count": 306,
   "metadata": {},
   "outputs": [
    {
     "data": {
      "text/plain": [
       "array([[5615, 1443],\n",
       "       [1382,  560]], dtype=int64)"
      ]
     },
     "execution_count": 306,
     "metadata": {},
     "output_type": "execute_result"
    }
   ],
   "source": [
    "cm1 = confusion_matrix(y_test, pred)\n",
    "cm1"
   ]
  },
  {
   "cell_type": "markdown",
   "metadata": {},
   "source": [
    "### Random Forest Classifier"
   ]
  },
  {
   "cell_type": "code",
   "execution_count": 308,
   "metadata": {},
   "outputs": [],
   "source": [
    "rf = RandomForestClassifier(n_estimators=200)"
   ]
  },
  {
   "cell_type": "code",
   "execution_count": 309,
   "metadata": {},
   "outputs": [
    {
     "data": {
      "text/plain": [
       "RandomForestClassifier(bootstrap=True, ccp_alpha=0.0, class_weight=None,\n",
       "                       criterion='gini', max_depth=None, max_features='auto',\n",
       "                       max_leaf_nodes=None, max_samples=None,\n",
       "                       min_impurity_decrease=0.0, min_impurity_split=None,\n",
       "                       min_samples_leaf=1, min_samples_split=2,\n",
       "                       min_weight_fraction_leaf=0.0, n_estimators=200,\n",
       "                       n_jobs=None, oob_score=False, random_state=None,\n",
       "                       verbose=0, warm_start=False)"
      ]
     },
     "execution_count": 309,
     "metadata": {},
     "output_type": "execute_result"
    }
   ],
   "source": [
    "rf.fit(X_train, y_train)"
   ]
  },
  {
   "cell_type": "code",
   "execution_count": 310,
   "metadata": {},
   "outputs": [],
   "source": [
    "Predictions = rf.predict(X_test)"
   ]
  },
  {
   "cell_type": "code",
   "execution_count": 311,
   "metadata": {},
   "outputs": [
    {
     "name": "stdout",
     "output_type": "stream",
     "text": [
      "[[6666  392]\n",
      " [1249  693]]\n",
      "\n",
      "\n",
      "              precision    recall  f1-score   support\n",
      "\n",
      "           0       0.84      0.94      0.89      7058\n",
      "           1       0.64      0.36      0.46      1942\n",
      "\n",
      "    accuracy                           0.82      9000\n",
      "   macro avg       0.74      0.65      0.67      9000\n",
      "weighted avg       0.80      0.82      0.80      9000\n",
      "\n"
     ]
    }
   ],
   "source": [
    "print(confusion_matrix(y_test, Predictions))\n",
    "print('\\n')\n",
    "print(classification_report(y_test, Predictions))"
   ]
  },
  {
   "cell_type": "code",
   "execution_count": 312,
   "metadata": {},
   "outputs": [
    {
     "data": {
      "text/plain": [
       "<matplotlib.axes._subplots.AxesSubplot at 0x29ef657d588>"
      ]
     },
     "execution_count": 312,
     "metadata": {},
     "output_type": "execute_result"
    },
    {
     "data": {
      "image/png": "[encoded data removed]",
      "text/plain": [
       "<Figure size 432x288 with 1 Axes>"
      ]
     },
     "metadata": {
      "needs_background": "light"
     },
     "output_type": "display_data"
    }
   ],
   "source": [
    "sns.heatmap(confusion_matrix(y_test, Predictions), annot=True, cbar=False, cmap='viridis')"
   ]
  },
  {
   "cell_type": "code",
   "execution_count": 313,
   "metadata": {},
   "outputs": [
    {
     "data": {
      "text/plain": [
       "0    23364\n",
       "1     6636\n",
       "Name: dpnm, dtype: int64"
      ]
     },
     "execution_count": 313,
     "metadata": {},
     "output_type": "execute_result"
    }
   ],
   "source": [
    "df['dpnm'].value_counts()"
   ]
  },
  {
   "cell_type": "markdown",
   "metadata": {},
   "source": [
    "### Decision Tree Classifier"
   ]
  },
  {
   "cell_type": "code",
   "execution_count": 314,
   "metadata": {},
   "outputs": [],
   "source": [
    "ds = DecisionTreeClassifier()"
   ]
  },
  {
   "cell_type": "code",
   "execution_count": 315,
   "metadata": {},
   "outputs": [
    {
     "data": {
      "text/plain": [
       "DecisionTreeClassifier(ccp_alpha=0.0, class_weight=None, criterion='gini',\n",
       "                       max_depth=None, max_features=None, max_leaf_nodes=None,\n",
       "                       min_impurity_decrease=0.0, min_impurity_split=None,\n",
       "                       min_samples_leaf=1, min_samples_split=2,\n",
       "                       min_weight_fraction_leaf=0.0, presort='deprecated',\n",
       "                       random_state=None, splitter='best')"
      ]
     },
     "execution_count": 315,
     "metadata": {},
     "output_type": "execute_result"
    }
   ],
   "source": [
    "ds.fit(X_train, y_train)"
   ]
  },
  {
   "cell_type": "code",
   "execution_count": 316,
   "metadata": {},
   "outputs": [],
   "source": [
    "Predictions = ds.predict(X_test)"
   ]
  },
  {
   "cell_type": "code",
   "execution_count": 317,
   "metadata": {},
   "outputs": [
    {
     "name": "stdout",
     "output_type": "stream",
     "text": [
      "[[5748 1310]\n",
      " [1110  832]]\n",
      "/n\n",
      "              precision    recall  f1-score   support\n",
      "\n",
      "           0       0.84      0.81      0.83      7058\n",
      "           1       0.39      0.43      0.41      1942\n",
      "\n",
      "    accuracy                           0.73      9000\n",
      "   macro avg       0.61      0.62      0.62      9000\n",
      "weighted avg       0.74      0.73      0.74      9000\n",
      "\n"
     ]
    }
   ],
   "source": [
    "print(confusion_matrix(y_test, Predictions))\n",
    "print('/n')\n",
    "print(classification_report(y_test, Predictions))"
   ]
  },
  {
   "cell_type": "code",
   "execution_count": 318,
   "metadata": {},
   "outputs": [
    {
     "data": {
      "text/plain": [
       "<matplotlib.axes._subplots.AxesSubplot at 0x29ef126b948>"
      ]
     },
     "execution_count": 318,
     "metadata": {},
     "output_type": "execute_result"
    },
    {
     "data": {
      "image/png": "[encoded data removed]",
      "text/plain": [
       "<Figure size 432x288 with 1 Axes>"
      ]
     },
     "metadata": {
      "needs_background": "light"
     },
     "output_type": "display_data"
    }
   ],
   "source": [
    "sns.heatmap(confusion_matrix(y_test, Predictions), annot=True, cbar=False, cmap='viridis')"
   ]
  },
  {
   "cell_type": "markdown",
   "metadata": {},
   "source": [
    "### Naive Bayes - Gaussian NB"
   ]
  },
  {
   "cell_type": "code",
   "execution_count": 319,
   "metadata": {},
   "outputs": [],
   "source": [
    "nbg = GaussianNB()"
   ]
  },
  {
   "cell_type": "code",
   "execution_count": 320,
   "metadata": {},
   "outputs": [
    {
     "data": {
      "text/plain": [
       "GaussianNB(priors=None, var_smoothing=1e-09)"
      ]
     },
     "execution_count": 320,
     "metadata": {},
     "output_type": "execute_result"
    }
   ],
   "source": [
    "nbg.fit(X_train, y_train)"
   ]
  },
  {
   "cell_type": "code",
   "execution_count": 321,
   "metadata": {},
   "outputs": [],
   "source": [
    "Predictions = nbg.predict(X_test)"
   ]
  },
  {
   "cell_type": "code",
   "execution_count": 322,
   "metadata": {},
   "outputs": [
    {
     "name": "stdout",
     "output_type": "stream",
     "text": [
      "[[1425 5633]\n",
      " [ 177 1765]]\n",
      "/n\n",
      "              precision    recall  f1-score   support\n",
      "\n",
      "           0       0.89      0.20      0.33      7058\n",
      "           1       0.24      0.91      0.38      1942\n",
      "\n",
      "    accuracy                           0.35      9000\n",
      "   macro avg       0.56      0.56      0.35      9000\n",
      "weighted avg       0.75      0.35      0.34      9000\n",
      "\n"
     ]
    }
   ],
   "source": [
    "print(confusion_matrix(y_test, Predictions))\n",
    "print('/n')\n",
    "print(classification_report(y_test, Predictions))"
   ]
  },
  {
   "cell_type": "code",
   "execution_count": 323,
   "metadata": {},
   "outputs": [
    {
     "data": {
      "text/plain": [
       "<matplotlib.axes._subplots.AxesSubplot at 0x29ef1267d48>"
      ]
     },
     "execution_count": 323,
     "metadata": {},
     "output_type": "execute_result"
    },
    {
     "data": {
      "image/png": "[encoded data removed]",
      "text/plain": [
       "<Figure size 432x288 with 1 Axes>"
      ]
     },
     "metadata": {
      "needs_background": "light"
     },
     "output_type": "display_data"
    }
   ],
   "source": [
    "sns.heatmap(confusion_matrix(y_test, Predictions), annot=True, cbar=False, cmap='viridis')"
   ]
  },
  {
   "cell_type": "markdown",
   "metadata": {},
   "source": [
    "### Neural Network"
   ]
  },
  {
   "cell_type": "code",
   "execution_count": 357,
   "metadata": {},
   "outputs": [],
   "source": [
    "sc = MinMaxScaler()"
   ]
  },
  {
   "cell_type": "code",
   "execution_count": 358,
   "metadata": {},
   "outputs": [
    {
     "data": {
      "text/plain": [
       "MinMaxScaler(copy=True, feature_range=(0, 1))"
      ]
     },
     "execution_count": 358,
     "metadata": {},
     "output_type": "execute_result"
    }
   ],
   "source": [
    "sc.fit(X_train)"
   ]
  },
  {
   "cell_type": "code",
   "execution_count": 365,
   "metadata": {},
   "outputs": [],
   "source": [
    "X_train = sc.transform(X_train)\n",
    "X_test = sc.transform(X_test)"
   ]
  },
  {
   "cell_type": "code",
   "execution_count": 372,
   "metadata": {},
   "outputs": [],
   "source": [
    "X_train = np.asarray(X_train)\n",
    "y_train = np.asarray(y_train)\n",
    "X_test = np.asarray(X_test)\n",
    "y_test = np.asarray(y_test)"
   ]
  },
  {
   "cell_type": "code",
   "execution_count": 367,
   "metadata": {},
   "outputs": [],
   "source": [
    "model = Sequential()\n",
    "\n",
    "model.add(Dense(4, activation = 'relu'))\n",
    "model.add(Dense(4, activation = 'relu'))\n",
    "model.add(Dense(4, activation = 'relu'))\n",
    "model.add(Dense(4, activation = 'relu'))\n",
    "model.add(Dense(4, activation = 'relu'))\n",
    "model.add(Dense(4, activation = 'relu'))\n",
    "model.add(Dense(4, activation = 'relu'))\n",
    "model.add(Dense(4, activation = 'relu'))\n",
    "model.add(Dense(4, activation = 'relu'))\n",
    "model.add(Dense(4, activation = 'relu'))\n",
    "\n",
    "model.add(Dense(20))\n",
    "\n",
    "model.compile(optmizer = 'rmsprop', loss = 'mse')"
   ]
  },
  {
   "cell_type": "code",
   "execution_count": 368,
   "metadata": {
    "scrolled": true
   },
   "outputs": [
    {
     "name": "stdout",
     "output_type": "stream",
     "text": [
      "Train on 21000 samples\n",
      "Epoch 1/500\n",
      "21000/21000 [==============================] - 4s 192us/sample - loss: 0.1771\n",
      "Epoch 2/500\n",
      "21000/21000 [==============================] - 2s 90us/sample - loss: 0.1729\n",
      "Epoch 3/500\n",
      "21000/21000 [==============================] - 2s 91us/sample - loss: 0.1726\n",
      "Epoch 4/500\n",
      "21000/21000 [==============================] - 2s 90us/sample - loss: 0.1723\n",
      "Epoch 5/500\n",
      "21000/21000 [==============================] - 2s 91us/sample - loss: 0.1722\n",
      "Epoch 6/500\n",
      "21000/21000 [==============================] - 2s 93us/sample - loss: 0.1720\n",
      "Epoch 7/500\n",
      "21000/21000 [==============================] - 2s 92us/sample - loss: 0.1719\n",
      "Epoch 8/500\n",
      "21000/21000 [==============================] - 2s 95us/sample - loss: 0.1717\n",
      "Epoch 9/500\n",
      "21000/21000 [==============================] - 2s 92us/sample - loss: 0.1715\n",
      "Epoch 10/500\n",
      "21000/21000 [==============================] - 2s 95us/sample - loss: 0.1710\n",
      "Epoch 11/500\n",
      "21000/21000 [==============================] - 2s 91us/sample - loss: 0.1704\n",
      "Epoch 12/500\n",
      "21000/21000 [==============================] - 2s 91us/sample - loss: 0.1687\n",
      "Epoch 13/500\n",
      "21000/21000 [==============================] - 2s 92us/sample - loss: 0.1652\n",
      "Epoch 14/500\n",
      "21000/21000 [==============================] - 2s 93us/sample - loss: 0.1619\n",
      "Epoch 15/500\n",
      "21000/21000 [==============================] - 2s 96us/sample - loss: 0.1609\n",
      "Epoch 16/500\n",
      "21000/21000 [==============================] - 2s 95us/sample - loss: 0.1596\n",
      "Epoch 17/500\n",
      "21000/21000 [==============================] - 2s 93us/sample - loss: 0.1593\n",
      "Epoch 18/500\n",
      "21000/21000 [==============================] - 2s 93us/sample - loss: 0.1588\n",
      "Epoch 19/500\n",
      "21000/21000 [==============================] - 2s 94us/sample - loss: 0.1588\n",
      "Epoch 20/500\n",
      "21000/21000 [==============================] - 2s 92us/sample - loss: 0.1580\n",
      "Epoch 21/500\n",
      "21000/21000 [==============================] - 2s 91us/sample - loss: 0.1578\n",
      "Epoch 22/500\n",
      "21000/21000 [==============================] - 2s 92us/sample - loss: 0.1575\n",
      "Epoch 23/500\n",
      "21000/21000 [==============================] - 2s 90us/sample - loss: 0.1571\n",
      "Epoch 24/500\n",
      "21000/21000 [==============================] - 2s 89us/sample - loss: 0.1566\n",
      "Epoch 25/500\n",
      "21000/21000 [==============================] - 2s 90us/sample - loss: 0.1569\n",
      "Epoch 26/500\n",
      "21000/21000 [==============================] - 2s 89us/sample - loss: 0.1565\n",
      "Epoch 27/500\n",
      "21000/21000 [==============================] - 2s 90us/sample - loss: 0.1556\n",
      "Epoch 28/500\n",
      "21000/21000 [==============================] - 2s 92us/sample - loss: 0.1561\n",
      "Epoch 29/500\n",
      "21000/21000 [==============================] - 2s 90us/sample - loss: 0.1555\n",
      "Epoch 30/500\n",
      "21000/21000 [==============================] - 2s 90us/sample - loss: 0.1557\n",
      "Epoch 31/500\n",
      "21000/21000 [==============================] - 2s 90us/sample - loss: 0.1555\n",
      "Epoch 32/500\n",
      "21000/21000 [==============================] - 2s 89us/sample - loss: 0.1553\n",
      "Epoch 33/500\n",
      "21000/21000 [==============================] - 2s 91us/sample - loss: 0.1552\n",
      "Epoch 34/500\n",
      "21000/21000 [==============================] - 2s 88us/sample - loss: 0.1554\n",
      "Epoch 35/500\n",
      "21000/21000 [==============================] - 2s 90us/sample - loss: 0.1546\n",
      "Epoch 36/500\n",
      "21000/21000 [==============================] - 2s 90us/sample - loss: 0.1548\n",
      "Epoch 37/500\n",
      "21000/21000 [==============================] - 2s 90us/sample - loss: 0.1543\n",
      "Epoch 38/500\n",
      "21000/21000 [==============================] - 2s 90us/sample - loss: 0.1545\n",
      "Epoch 39/500\n",
      "21000/21000 [==============================] - 2s 89us/sample - loss: 0.1544\n",
      "Epoch 40/500\n",
      "21000/21000 [==============================] - 2s 95us/sample - loss: 0.1543\n",
      "Epoch 41/500\n",
      "21000/21000 [==============================] - 1s 65us/sample - loss: 0.1542\n",
      "Epoch 42/500\n",
      "21000/21000 [==============================] - 1s 65us/sample - loss: 0.1518\n",
      "Epoch 43/500\n",
      "21000/21000 [==============================] - 1s 49us/sample - loss: 0.1510\n",
      "Epoch 44/500\n",
      "21000/21000 [==============================] - 1s 39us/sample - loss: 0.1510\n",
      "Epoch 45/500\n",
      "21000/21000 [==============================] - 1s 41us/sample - loss: 0.1504\n",
      "Epoch 46/500\n",
      "21000/21000 [==============================] - 1s 39us/sample - loss: 0.1511\n",
      "Epoch 47/500\n",
      "21000/21000 [==============================] - 1s 40us/sample - loss: 0.1509\n",
      "Epoch 48/500\n",
      "21000/21000 [==============================] - 1s 40us/sample - loss: 0.1503\n",
      "Epoch 49/500\n",
      "21000/21000 [==============================] - 1s 40us/sample - loss: 0.1497\n",
      "Epoch 50/500\n",
      "21000/21000 [==============================] - 1s 41us/sample - loss: 0.1498\n",
      "Epoch 51/500\n",
      "21000/21000 [==============================] - 1s 40us/sample - loss: 0.1495\n",
      "Epoch 52/500\n",
      "21000/21000 [==============================] - 1s 40us/sample - loss: 0.1502\n",
      "Epoch 53/500\n",
      "21000/21000 [==============================] - 1s 41us/sample - loss: 0.1503\n",
      "Epoch 54/500\n",
      "21000/21000 [==============================] - 1s 40us/sample - loss: 0.1495\n",
      "Epoch 55/500\n",
      "21000/21000 [==============================] - 1s 45us/sample - loss: 0.1496\n",
      "Epoch 56/500\n",
      "21000/21000 [==============================] - 1s 49us/sample - loss: 0.1498\n",
      "Epoch 57/500\n",
      "21000/21000 [==============================] - 1s 47us/sample - loss: 0.1490\n",
      "Epoch 58/500\n",
      "21000/21000 [==============================] - 1s 48us/sample - loss: 0.1494\n",
      "Epoch 59/500\n",
      "21000/21000 [==============================] - 1s 48us/sample - loss: 0.1496\n",
      "Epoch 60/500\n",
      "21000/21000 [==============================] - 1s 47us/sample - loss: 0.1489\n",
      "Epoch 61/500\n",
      "21000/21000 [==============================] - 1s 50us/sample - loss: 0.1488\n",
      "Epoch 62/500\n",
      "21000/21000 [==============================] - 1s 47us/sample - loss: 0.1493\n",
      "Epoch 63/500\n",
      "21000/21000 [==============================] - 1s 46us/sample - loss: 0.1492\n",
      "Epoch 64/500\n",
      "21000/21000 [==============================] - 1s 47us/sample - loss: 0.1489\n",
      "Epoch 65/500\n",
      "21000/21000 [==============================] - 1s 47us/sample - loss: 0.1492\n",
      "Epoch 66/500\n",
      "21000/21000 [==============================] - 1s 48us/sample - loss: 0.1488\n",
      "Epoch 67/500\n",
      "21000/21000 [==============================] - 1s 48us/sample - loss: 0.1487\n",
      "Epoch 68/500\n",
      "21000/21000 [==============================] - 1s 47us/sample - loss: 0.1489\n",
      "Epoch 69/500\n",
      "21000/21000 [==============================] - 1s 46us/sample - loss: 0.1484\n",
      "Epoch 70/500\n",
      "21000/21000 [==============================] - 1s 47us/sample - loss: 0.1483\n",
      "Epoch 71/500\n",
      "21000/21000 [==============================] - 1s 48us/sample - loss: 0.1486\n",
      "Epoch 72/500\n",
      "21000/21000 [==============================] - 1s 56us/sample - loss: 0.1484\n",
      "Epoch 73/500\n",
      "21000/21000 [==============================] - 1s 49us/sample - loss: 0.1488\n",
      "Epoch 74/500\n",
      "21000/21000 [==============================] - 1s 50us/sample - loss: 0.1482\n",
      "Epoch 75/500\n",
      "21000/21000 [==============================] - 1s 57us/sample - loss: 0.1483\n",
      "Epoch 76/500\n",
      "21000/21000 [==============================] - 1s 60us/sample - loss: 0.1484\n",
      "Epoch 77/500\n",
      "21000/21000 [==============================] - 1s 63us/sample - loss: 0.1489\n",
      "Epoch 78/500\n",
      "21000/21000 [==============================] - 1s 62us/sample - loss: 0.1484\n",
      "Epoch 79/500\n",
      "21000/21000 [==============================] - 1s 48us/sample - loss: 0.1484\n",
      "Epoch 80/500\n",
      "21000/21000 [==============================] - 1s 44us/sample - loss: 0.1480\n",
      "Epoch 81/500\n",
      "21000/21000 [==============================] - 1s 45us/sample - loss: 0.1483\n",
      "Epoch 82/500\n",
      "21000/21000 [==============================] - 1s 45us/sample - loss: 0.1484\n",
      "Epoch 83/500\n",
      "21000/21000 [==============================] - 1s 45us/sample - loss: 0.1478\n",
      "Epoch 84/500\n",
      "21000/21000 [==============================] - 1s 44us/sample - loss: 0.1479\n",
      "Epoch 85/500\n",
      "21000/21000 [==============================] - 1s 45us/sample - loss: 0.1485\n",
      "Epoch 86/500\n",
      "21000/21000 [==============================] - 1s 48us/sample - loss: 0.1488\n",
      "Epoch 87/500\n",
      "21000/21000 [==============================] - 1s 53us/sample - loss: 0.1480\n",
      "Epoch 88/500\n",
      "21000/21000 [==============================] - 1s 52us/sample - loss: 0.1475\n",
      "Epoch 89/500\n",
      "21000/21000 [==============================] - 1s 46us/sample - loss: 0.1477\n",
      "Epoch 90/500\n",
      "21000/21000 [==============================] - 1s 45us/sample - loss: 0.1472\n",
      "Epoch 91/500\n",
      "21000/21000 [==============================] - 1s 43us/sample - loss: 0.1475\n",
      "Epoch 92/500\n",
      "21000/21000 [==============================] - 1s 43us/sample - loss: 0.1474\n",
      "Epoch 93/500\n",
      "21000/21000 [==============================] - 1s 43us/sample - loss: 0.1475\n",
      "Epoch 94/500\n",
      "21000/21000 [==============================] - 1s 42us/sample - loss: 0.1478\n",
      "Epoch 95/500\n",
      "21000/21000 [==============================] - 1s 49us/sample - loss: 0.1476\n",
      "Epoch 96/500\n",
      "21000/21000 [==============================] - 1s 48us/sample - loss: 0.1478\n",
      "Epoch 97/500\n",
      "21000/21000 [==============================] - 1s 44us/sample - loss: 0.1470\n",
      "Epoch 98/500\n",
      "21000/21000 [==============================] - 1s 46us/sample - loss: 0.1472\n",
      "Epoch 99/500\n",
      "21000/21000 [==============================] - 1s 46us/sample - loss: 0.1473\n",
      "Epoch 100/500\n",
      "21000/21000 [==============================] - 1s 47us/sample - loss: 0.1477\n",
      "Epoch 101/500\n",
      "21000/21000 [==============================] - 1s 50us/sample - loss: 0.1476\n",
      "Epoch 102/500\n",
      "21000/21000 [==============================] - 1s 64us/sample - loss: 0.1469\n",
      "Epoch 103/500\n",
      "21000/21000 [==============================] - 1s 44us/sample - loss: 0.1462\n",
      "Epoch 104/500\n",
      "21000/21000 [==============================] - 1s 47us/sample - loss: 0.1469\n",
      "Epoch 105/500\n",
      "21000/21000 [==============================] - 1s 46us/sample - loss: 0.1467\n",
      "Epoch 106/500\n",
      "21000/21000 [==============================] - 1s 45us/sample - loss: 0.1476\n",
      "Epoch 107/500\n",
      "21000/21000 [==============================] - 1s 45us/sample - loss: 0.1465\n",
      "Epoch 108/500\n",
      "21000/21000 [==============================] - 1s 44us/sample - loss: 0.1469\n",
      "Epoch 109/500\n",
      "21000/21000 [==============================] - 1s 44us/sample - loss: 0.1469\n",
      "Epoch 110/500\n",
      "21000/21000 [==============================] - 1s 45us/sample - loss: 0.1464\n",
      "Epoch 111/500\n",
      "21000/21000 [==============================] - 1s 49us/sample - loss: 0.1468\n",
      "Epoch 112/500\n",
      "21000/21000 [==============================] - 1s 47us/sample - loss: 0.1470\n",
      "Epoch 113/500\n",
      "21000/21000 [==============================] - 1s 46us/sample - loss: 0.1467\n",
      "Epoch 114/500\n",
      "21000/21000 [==============================] - 1s 44us/sample - loss: 0.1470\n",
      "Epoch 115/500\n",
      "21000/21000 [==============================] - 1s 45us/sample - loss: 0.14710s -\n",
      "Epoch 116/500\n",
      "21000/21000 [==============================] - 1s 46us/sample - loss: 0.1463\n",
      "Epoch 117/500\n",
      "21000/21000 [==============================] - 1s 46us/sample - loss: 0.1460\n",
      "Epoch 118/500\n",
      "21000/21000 [==============================] - 1s 46us/sample - loss: 0.1467\n",
      "Epoch 119/500\n",
      "21000/21000 [==============================] - 1s 46us/sample - loss: 0.1461\n",
      "Epoch 120/500\n",
      "21000/21000 [==============================] - 1s 45us/sample - loss: 0.1459\n",
      "Epoch 121/500\n",
      "21000/21000 [==============================] - 1s 46us/sample - loss: 0.1470\n",
      "Epoch 122/500\n",
      "21000/21000 [==============================] - 1s 46us/sample - loss: 0.1464\n",
      "Epoch 123/500\n",
      "21000/21000 [==============================] - 1s 46us/sample - loss: 0.1467\n",
      "Epoch 124/500\n",
      "21000/21000 [==============================] - 1s 46us/sample - loss: 0.1466\n",
      "Epoch 125/500\n",
      "21000/21000 [==============================] - 1s 46us/sample - loss: 0.1461\n",
      "Epoch 126/500\n",
      "21000/21000 [==============================] - 1s 50us/sample - loss: 0.1461\n",
      "Epoch 127/500\n",
      "21000/21000 [==============================] - 1s 54us/sample - loss: 0.1465\n",
      "Epoch 128/500\n",
      "21000/21000 [==============================] - 1s 53us/sample - loss: 0.1463\n",
      "Epoch 129/500\n",
      "21000/21000 [==============================] - 1s 51us/sample - loss: 0.1464\n",
      "Epoch 130/500\n",
      "21000/21000 [==============================] - 1s 46us/sample - loss: 0.1461\n",
      "Epoch 131/500\n",
      "21000/21000 [==============================] - 1s 47us/sample - loss: 0.1459\n",
      "Epoch 132/500\n",
      "21000/21000 [==============================] - 1s 46us/sample - loss: 0.1458\n",
      "Epoch 133/500\n",
      "21000/21000 [==============================] - 1s 46us/sample - loss: 0.1464\n",
      "Epoch 134/500\n",
      "21000/21000 [==============================] - 1s 46us/sample - loss: 0.1459\n",
      "Epoch 135/500\n",
      "21000/21000 [==============================] - 1s 46us/sample - loss: 0.1455\n",
      "Epoch 136/500\n",
      "21000/21000 [==============================] - 1s 45us/sample - loss: 0.1461\n",
      "Epoch 137/500\n",
      "21000/21000 [==============================] - 1s 46us/sample - loss: 0.1462\n",
      "Epoch 138/500\n",
      "21000/21000 [==============================] - 1s 47us/sample - loss: 0.1457\n",
      "Epoch 139/500\n",
      "21000/21000 [==============================] - 1s 47us/sample - loss: 0.1456\n",
      "Epoch 140/500\n",
      "21000/21000 [==============================] - 1s 47us/sample - loss: 0.1457\n",
      "Epoch 141/500\n",
      "21000/21000 [==============================] - 1s 46us/sample - loss: 0.1465\n",
      "Epoch 142/500\n",
      "21000/21000 [==============================] - 1s 47us/sample - loss: 0.1455\n",
      "Epoch 143/500\n",
      "21000/21000 [==============================] - 1s 46us/sample - loss: 0.1454\n",
      "Epoch 144/500\n",
      "21000/21000 [==============================] - 1s 46us/sample - loss: 0.1456\n",
      "Epoch 145/500\n",
      "21000/21000 [==============================] - 1s 46us/sample - loss: 0.1457\n",
      "Epoch 146/500\n",
      "21000/21000 [==============================] - 1s 49us/sample - loss: 0.1454\n",
      "Epoch 147/500\n",
      "21000/21000 [==============================] - 1s 46us/sample - loss: 0.1457\n",
      "Epoch 148/500\n",
      "21000/21000 [==============================] - 1s 47us/sample - loss: 0.1453\n",
      "Epoch 149/500\n",
      "21000/21000 [==============================] - 1s 46us/sample - loss: 0.1453\n",
      "Epoch 150/500\n",
      "21000/21000 [==============================] - 1s 46us/sample - loss: 0.1463\n",
      "Epoch 151/500\n",
      "21000/21000 [==============================] - 1s 47us/sample - loss: 0.1453\n",
      "Epoch 152/500\n",
      "21000/21000 [==============================] - 1s 48us/sample - loss: 0.1454\n",
      "Epoch 153/500\n",
      "21000/21000 [==============================] - 1s 46us/sample - loss: 0.1451\n",
      "Epoch 154/500\n",
      "21000/21000 [==============================] - 1s 47us/sample - loss: 0.1448\n",
      "Epoch 155/500\n",
      "21000/21000 [==============================] - 1s 46us/sample - loss: 0.1455\n",
      "Epoch 156/500\n",
      "21000/21000 [==============================] - 1s 46us/sample - loss: 0.1453\n",
      "Epoch 157/500\n",
      "21000/21000 [==============================] - 1s 46us/sample - loss: 0.1459\n",
      "Epoch 158/500\n",
      "21000/21000 [==============================] - 1s 46us/sample - loss: 0.1452\n",
      "Epoch 159/500\n",
      "21000/21000 [==============================] - 1s 46us/sample - loss: 0.1448\n",
      "Epoch 160/500\n",
      "21000/21000 [==============================] - 1s 47us/sample - loss: 0.1450\n",
      "Epoch 161/500\n",
      "21000/21000 [==============================] - 1s 46us/sample - loss: 0.1466\n",
      "Epoch 162/500\n",
      "21000/21000 [==============================] - 1s 47us/sample - loss: 0.1450\n",
      "Epoch 163/500\n",
      "21000/21000 [==============================] - 1s 47us/sample - loss: 0.1451\n",
      "Epoch 164/500\n",
      "21000/21000 [==============================] - 1s 48us/sample - loss: 0.1449\n",
      "Epoch 165/500\n",
      "21000/21000 [==============================] - 1s 47us/sample - loss: 0.1449\n",
      "Epoch 166/500\n",
      "21000/21000 [==============================] - 1s 47us/sample - loss: 0.1451\n",
      "Epoch 167/500\n",
      "21000/21000 [==============================] - 1s 47us/sample - loss: 0.1450\n",
      "Epoch 168/500\n",
      "21000/21000 [==============================] - 1s 46us/sample - loss: 0.1454\n",
      "Epoch 169/500\n",
      "21000/21000 [==============================] - 1s 47us/sample - loss: 0.1454\n",
      "Epoch 170/500\n",
      "21000/21000 [==============================] - 1s 46us/sample - loss: 0.1456\n",
      "Epoch 171/500\n",
      "21000/21000 [==============================] - 1s 47us/sample - loss: 0.1453\n",
      "Epoch 172/500\n",
      "21000/21000 [==============================] - 1s 47us/sample - loss: 0.1449\n",
      "Epoch 173/500\n",
      "21000/21000 [==============================] - 1s 46us/sample - loss: 0.1447\n",
      "Epoch 174/500\n",
      "21000/21000 [==============================] - 1s 47us/sample - loss: 0.1453\n",
      "Epoch 175/500\n",
      "21000/21000 [==============================] - 1s 48us/sample - loss: 0.1450\n",
      "Epoch 176/500\n",
      "21000/21000 [==============================] - 1s 47us/sample - loss: 0.1445\n",
      "Epoch 177/500\n",
      "21000/21000 [==============================] - 1s 48us/sample - loss: 0.1453\n",
      "Epoch 178/500\n",
      "21000/21000 [==============================] - 1s 46us/sample - loss: 0.1455\n",
      "Epoch 179/500\n",
      "21000/21000 [==============================] - 1s 48us/sample - loss: 0.1448\n",
      "Epoch 180/500\n",
      "21000/21000 [==============================] - 1s 46us/sample - loss: 0.1452\n",
      "Epoch 181/500\n",
      "21000/21000 [==============================] - 1s 44us/sample - loss: 0.14440s - loss: \n",
      "Epoch 182/500\n",
      "21000/21000 [==============================] - 1s 43us/sample - loss: 0.1456\n",
      "Epoch 183/500\n",
      "21000/21000 [==============================] - 1s 43us/sample - loss: 0.1451\n",
      "Epoch 184/500\n",
      "21000/21000 [==============================] - 1s 42us/sample - loss: 0.1446\n",
      "Epoch 185/500\n",
      "21000/21000 [==============================] - 1s 42us/sample - loss: 0.1449\n",
      "Epoch 186/500\n",
      "21000/21000 [==============================] - 1s 43us/sample - loss: 0.1449\n",
      "Epoch 187/500\n",
      "21000/21000 [==============================] - 1s 43us/sample - loss: 0.1449\n",
      "Epoch 188/500\n",
      "21000/21000 [==============================] - 1s 44us/sample - loss: 0.1450\n",
      "Epoch 189/500\n",
      "21000/21000 [==============================] - 1s 43us/sample - loss: 0.1449\n",
      "Epoch 190/500\n",
      "21000/21000 [==============================] - 1s 44us/sample - loss: 0.1447\n",
      "Epoch 191/500\n",
      "21000/21000 [==============================] - 1s 42us/sample - loss: 0.1452\n",
      "Epoch 192/500\n",
      "21000/21000 [==============================] - 1s 43us/sample - loss: 0.1446\n",
      "Epoch 193/500\n",
      "21000/21000 [==============================] - 1s 43us/sample - loss: 0.1451\n",
      "Epoch 194/500\n",
      "21000/21000 [==============================] - 1s 44us/sample - loss: 0.1448\n",
      "Epoch 195/500\n",
      "21000/21000 [==============================] - 1s 43us/sample - loss: 0.1447\n",
      "Epoch 196/500\n",
      "21000/21000 [==============================] - 1s 43us/sample - loss: 0.1443\n",
      "Epoch 197/500\n",
      "21000/21000 [==============================] - 1s 44us/sample - loss: 0.1450\n",
      "Epoch 198/500\n",
      "21000/21000 [==============================] - 1s 43us/sample - loss: 0.1448\n",
      "Epoch 199/500\n",
      "21000/21000 [==============================] - 1s 44us/sample - loss: 0.1447\n",
      "Epoch 200/500\n",
      "21000/21000 [==============================] - 1s 44us/sample - loss: 0.1459\n",
      "Epoch 201/500\n",
      "21000/21000 [==============================] - 1s 49us/sample - loss: 0.1452\n",
      "Epoch 202/500\n",
      "21000/21000 [==============================] - 1s 45us/sample - loss: 0.1452\n",
      "Epoch 203/500\n",
      "21000/21000 [==============================] - 1s 44us/sample - loss: 0.1445\n",
      "Epoch 204/500\n",
      "21000/21000 [==============================] - 1s 44us/sample - loss: 0.1446\n",
      "Epoch 205/500\n",
      "21000/21000 [==============================] - 1s 43us/sample - loss: 0.14470s - loss: 0.1\n",
      "Epoch 206/500\n",
      "21000/21000 [==============================] - 1s 43us/sample - loss: 0.1444\n",
      "Epoch 207/500\n",
      "21000/21000 [==============================] - 1s 42us/sample - loss: 0.1444\n",
      "Epoch 208/500\n",
      "21000/21000 [==============================] - 1s 43us/sample - loss: 0.1445\n",
      "Epoch 209/500\n",
      "21000/21000 [==============================] - 1s 43us/sample - loss: 0.1444\n",
      "Epoch 210/500\n",
      "21000/21000 [==============================] - 1s 43us/sample - loss: 0.1443\n",
      "Epoch 211/500\n",
      "21000/21000 [==============================] - 1s 44us/sample - loss: 0.1446\n",
      "Epoch 212/500\n",
      "21000/21000 [==============================] - 1s 44us/sample - loss: 0.1440\n",
      "Epoch 213/500\n",
      "21000/21000 [==============================] - 1s 43us/sample - loss: 0.1445\n",
      "Epoch 214/500\n",
      "21000/21000 [==============================] - 1s 43us/sample - loss: 0.1445\n",
      "Epoch 215/500\n",
      "21000/21000 [==============================] - 1s 43us/sample - loss: 0.1442\n",
      "Epoch 216/500\n",
      "21000/21000 [==============================] - 1s 62us/sample - loss: 0.1443\n",
      "Epoch 217/500\n",
      "21000/21000 [==============================] - 1s 59us/sample - loss: 0.1441\n",
      "Epoch 218/500\n",
      "21000/21000 [==============================] - 1s 59us/sample - loss: 0.1442\n",
      "Epoch 219/500\n",
      "21000/21000 [==============================] - 1s 48us/sample - loss: 0.1440\n",
      "Epoch 220/500\n",
      "21000/21000 [==============================] - 1s 48us/sample - loss: 0.1441\n",
      "Epoch 221/500\n",
      "21000/21000 [==============================] - 1s 46us/sample - loss: 0.1443\n",
      "Epoch 222/500\n",
      "21000/21000 [==============================] - 1s 46us/sample - loss: 0.1442\n",
      "Epoch 223/500\n",
      "21000/21000 [==============================] - 1s 59us/sample - loss: 0.1442\n",
      "Epoch 224/500\n",
      "21000/21000 [==============================] - 1s 56us/sample - loss: 0.1441\n",
      "Epoch 225/500\n",
      "21000/21000 [==============================] - 1s 51us/sample - loss: 0.1438\n",
      "Epoch 226/500\n",
      "21000/21000 [==============================] - 1s 47us/sample - loss: 0.1441\n",
      "Epoch 227/500\n",
      "21000/21000 [==============================] - 1s 46us/sample - loss: 0.1443\n",
      "Epoch 228/500\n",
      "21000/21000 [==============================] - 1s 46us/sample - loss: 0.1438\n",
      "Epoch 229/500\n",
      "21000/21000 [==============================] - 1s 46us/sample - loss: 0.1442\n",
      "Epoch 230/500\n",
      "21000/21000 [==============================] - 1s 48us/sample - loss: 0.1444\n",
      "Epoch 231/500\n",
      "21000/21000 [==============================] - 1s 48us/sample - loss: 0.1442\n",
      "Epoch 232/500\n",
      "21000/21000 [==============================] - 1s 47us/sample - loss: 0.1443\n",
      "Epoch 233/500\n",
      "21000/21000 [==============================] - 1s 46us/sample - loss: 0.1441\n",
      "Epoch 234/500\n",
      "21000/21000 [==============================] - 1s 47us/sample - loss: 0.1442\n",
      "Epoch 235/500\n",
      "21000/21000 [==============================] - 1s 47us/sample - loss: 0.1440\n",
      "Epoch 236/500\n",
      "21000/21000 [==============================] - 1s 48us/sample - loss: 0.1441\n",
      "Epoch 237/500\n",
      "21000/21000 [==============================] - 1s 46us/sample - loss: 0.1441\n",
      "Epoch 238/500\n",
      "21000/21000 [==============================] - 1s 46us/sample - loss: 0.1436\n",
      "Epoch 239/500\n",
      "21000/21000 [==============================] - 1s 46us/sample - loss: 0.1442\n",
      "Epoch 240/500\n",
      "21000/21000 [==============================] - 1s 46us/sample - loss: 0.1443\n",
      "Epoch 241/500\n",
      "21000/21000 [==============================] - 1s 47us/sample - loss: 0.1443\n",
      "Epoch 242/500\n",
      "21000/21000 [==============================] - 1s 47us/sample - loss: 0.1439\n",
      "Epoch 243/500\n",
      "21000/21000 [==============================] - 1s 47us/sample - loss: 0.1439\n",
      "Epoch 244/500\n",
      "21000/21000 [==============================] - 1s 47us/sample - loss: 0.1438\n",
      "Epoch 245/500\n",
      "21000/21000 [==============================] - 1s 47us/sample - loss: 0.1437\n",
      "Epoch 246/500\n",
      "21000/21000 [==============================] - 1s 46us/sample - loss: 0.1445\n",
      "Epoch 247/500\n",
      "21000/21000 [==============================] - 1s 47us/sample - loss: 0.1438\n",
      "Epoch 248/500\n",
      "21000/21000 [==============================] - 1s 46us/sample - loss: 0.1435\n",
      "Epoch 249/500\n",
      "21000/21000 [==============================] - 1s 46us/sample - loss: 0.1441\n",
      "Epoch 250/500\n",
      "21000/21000 [==============================] - 1s 52us/sample - loss: 0.1444\n",
      "Epoch 251/500\n",
      "21000/21000 [==============================] - 1s 55us/sample - loss: 0.1439\n",
      "Epoch 252/500\n",
      "21000/21000 [==============================] - 1s 47us/sample - loss: 0.1441\n",
      "Epoch 253/500\n",
      "21000/21000 [==============================] - 1s 47us/sample - loss: 0.1441\n",
      "Epoch 254/500\n",
      "21000/21000 [==============================] - 1s 47us/sample - loss: 0.1437\n",
      "Epoch 255/500\n",
      "21000/21000 [==============================] - 1s 49us/sample - loss: 0.1442\n",
      "Epoch 256/500\n",
      "21000/21000 [==============================] - 1s 48us/sample - loss: 0.1437\n",
      "Epoch 257/500\n",
      "21000/21000 [==============================] - 1s 47us/sample - loss: 0.1437\n",
      "Epoch 258/500\n",
      "21000/21000 [==============================] - 1s 47us/sample - loss: 0.1440\n",
      "Epoch 259/500\n",
      "21000/21000 [==============================] - 1s 46us/sample - loss: 0.14350s - \n",
      "Epoch 260/500\n",
      "21000/21000 [==============================] - 1s 47us/sample - loss: 0.1442\n",
      "Epoch 261/500\n",
      "21000/21000 [==============================] - 1s 48us/sample - loss: 0.1438\n",
      "Epoch 262/500\n",
      "21000/21000 [==============================] - 1s 47us/sample - loss: 0.1436\n",
      "Epoch 263/500\n",
      "21000/21000 [==============================] - 1s 47us/sample - loss: 0.1439\n",
      "Epoch 264/500\n",
      "21000/21000 [==============================] - 1s 47us/sample - loss: 0.1437\n",
      "Epoch 265/500\n",
      "21000/21000 [==============================] - 1s 47us/sample - loss: 0.1439\n",
      "Epoch 266/500\n",
      "21000/21000 [==============================] - 1s 47us/sample - loss: 0.1440\n",
      "Epoch 267/500\n",
      "21000/21000 [==============================] - 1s 48us/sample - loss: 0.1434\n",
      "Epoch 268/500\n",
      "21000/21000 [==============================] - 1s 47us/sample - loss: 0.1437\n",
      "Epoch 269/500\n",
      "21000/21000 [==============================] - 1s 48us/sample - loss: 0.1437\n",
      "Epoch 270/500\n",
      "21000/21000 [==============================] - 1s 45us/sample - loss: 0.1436\n",
      "Epoch 271/500\n",
      "21000/21000 [==============================] - 1s 44us/sample - loss: 0.1436\n",
      "Epoch 272/500\n",
      "21000/21000 [==============================] - 1s 44us/sample - loss: 0.1436\n",
      "Epoch 273/500\n",
      "21000/21000 [==============================] - 1s 44us/sample - loss: 0.1435\n",
      "Epoch 274/500\n",
      "21000/21000 [==============================] - 1s 44us/sample - loss: 0.1434\n",
      "Epoch 275/500\n",
      "21000/21000 [==============================] - 1s 44us/sample - loss: 0.1435\n",
      "Epoch 276/500\n",
      "21000/21000 [==============================] - 1s 44us/sample - loss: 0.1435\n",
      "Epoch 277/500\n",
      "21000/21000 [==============================] - 1s 44us/sample - loss: 0.1436\n",
      "Epoch 278/500\n",
      "21000/21000 [==============================] - 1s 44us/sample - loss: 0.1438\n",
      "Epoch 279/500\n",
      "21000/21000 [==============================] - 1s 45us/sample - loss: 0.1434\n",
      "Epoch 280/500\n",
      "21000/21000 [==============================] - 1s 45us/sample - loss: 0.1443\n",
      "Epoch 281/500\n",
      "21000/21000 [==============================] - 1s 48us/sample - loss: 0.1436\n",
      "Epoch 282/500\n",
      "21000/21000 [==============================] - 1s 46us/sample - loss: 0.1434\n",
      "Epoch 283/500\n",
      "21000/21000 [==============================] - 1s 48us/sample - loss: 0.1434\n",
      "Epoch 284/500\n",
      "21000/21000 [==============================] - 1s 46us/sample - loss: 0.1435\n",
      "Epoch 285/500\n",
      "21000/21000 [==============================] - 1s 46us/sample - loss: 0.1435\n",
      "Epoch 286/500\n",
      "21000/21000 [==============================] - 1s 44us/sample - loss: 0.1436\n",
      "Epoch 287/500\n",
      "21000/21000 [==============================] - 1s 45us/sample - loss: 0.1433\n",
      "Epoch 288/500\n",
      "21000/21000 [==============================] - 1s 44us/sample - loss: 0.1433\n",
      "Epoch 289/500\n",
      "21000/21000 [==============================] - 1s 45us/sample - loss: 0.1432\n",
      "Epoch 290/500\n",
      "21000/21000 [==============================] - 1s 45us/sample - loss: 0.1435\n",
      "Epoch 291/500\n",
      "21000/21000 [==============================] - 1s 45us/sample - loss: 0.1434\n",
      "Epoch 292/500\n",
      "21000/21000 [==============================] - 1s 45us/sample - loss: 0.1431\n",
      "Epoch 293/500\n",
      "21000/21000 [==============================] - 1s 46us/sample - loss: 0.1431\n",
      "Epoch 294/500\n",
      "21000/21000 [==============================] - 1s 45us/sample - loss: 0.1429\n",
      "Epoch 295/500\n",
      "21000/21000 [==============================] - 1s 49us/sample - loss: 0.1434\n",
      "Epoch 296/500\n",
      "21000/21000 [==============================] - 1s 45us/sample - loss: 0.1432\n",
      "Epoch 297/500\n",
      "21000/21000 [==============================] - 1s 45us/sample - loss: 0.1431\n",
      "Epoch 298/500\n",
      "21000/21000 [==============================] - 1s 45us/sample - loss: 0.1433\n",
      "Epoch 299/500\n",
      "21000/21000 [==============================] - 1s 45us/sample - loss: 0.1432\n",
      "Epoch 300/500\n",
      "21000/21000 [==============================] - 1s 45us/sample - loss: 0.1429\n",
      "Epoch 301/500\n",
      "21000/21000 [==============================] - 1s 45us/sample - loss: 0.1427\n",
      "Epoch 302/500\n",
      "21000/21000 [==============================] - 1s 45us/sample - loss: 0.1435\n",
      "Epoch 303/500\n",
      "21000/21000 [==============================] - 1s 45us/sample - loss: 0.1428\n",
      "Epoch 304/500\n",
      "21000/21000 [==============================] - 1s 46us/sample - loss: 0.1435\n",
      "Epoch 305/500\n",
      "21000/21000 [==============================] - 1s 45us/sample - loss: 0.1431\n",
      "Epoch 306/500\n",
      "21000/21000 [==============================] - 1s 45us/sample - loss: 0.1427\n",
      "Epoch 307/500\n",
      "21000/21000 [==============================] - 1s 45us/sample - loss: 0.1435\n",
      "Epoch 308/500\n",
      "21000/21000 [==============================] - 1s 45us/sample - loss: 0.1429\n",
      "Epoch 309/500\n",
      "21000/21000 [==============================] - 1s 45us/sample - loss: 0.1430\n",
      "Epoch 310/500\n",
      "21000/21000 [==============================] - 1s 46us/sample - loss: 0.1432\n",
      "Epoch 311/500\n",
      "21000/21000 [==============================] - 1s 45us/sample - loss: 0.1429\n",
      "Epoch 312/500\n",
      "21000/21000 [==============================] - 1s 46us/sample - loss: 0.1429\n",
      "Epoch 313/500\n",
      "21000/21000 [==============================] - 1s 45us/sample - loss: 0.1430\n",
      "Epoch 314/500\n",
      "21000/21000 [==============================] - 1s 46us/sample - loss: 0.1430\n",
      "Epoch 315/500\n",
      "21000/21000 [==============================] - 1s 45us/sample - loss: 0.1429\n",
      "Epoch 316/500\n",
      "21000/21000 [==============================] - 1s 45us/sample - loss: 0.1426\n",
      "Epoch 317/500\n",
      "21000/21000 [==============================] - 1s 45us/sample - loss: 0.1428\n",
      "Epoch 318/500\n",
      "21000/21000 [==============================] - 1s 46us/sample - loss: 0.1428\n",
      "Epoch 319/500\n",
      "21000/21000 [==============================] - 1s 46us/sample - loss: 0.1429\n",
      "Epoch 320/500\n",
      "21000/21000 [==============================] - 1s 45us/sample - loss: 0.1425\n",
      "Epoch 321/500\n",
      "21000/21000 [==============================] - 1s 45us/sample - loss: 0.1428\n",
      "Epoch 322/500\n",
      "21000/21000 [==============================] - 1s 45us/sample - loss: 0.1429\n",
      "Epoch 323/500\n",
      "21000/21000 [==============================] - 1s 46us/sample - loss: 0.1433\n",
      "Epoch 324/500\n",
      "21000/21000 [==============================] - 1s 50us/sample - loss: 0.1429\n",
      "Epoch 325/500\n",
      "21000/21000 [==============================] - 1s 48us/sample - loss: 0.1425\n",
      "Epoch 326/500\n",
      "21000/21000 [==============================] - 1s 48us/sample - loss: 0.1429\n",
      "Epoch 327/500\n",
      "21000/21000 [==============================] - 1s 47us/sample - loss: 0.1429\n",
      "Epoch 328/500\n",
      "21000/21000 [==============================] - 1s 46us/sample - loss: 0.1426\n",
      "Epoch 329/500\n",
      "21000/21000 [==============================] - 1s 45us/sample - loss: 0.1428\n",
      "Epoch 330/500\n",
      "21000/21000 [==============================] - 1s 46us/sample - loss: 0.1430\n",
      "Epoch 331/500\n",
      "21000/21000 [==============================] - 1s 46us/sample - loss: 0.1429\n",
      "Epoch 332/500\n",
      "21000/21000 [==============================] - 1s 46us/sample - loss: 0.1427\n",
      "Epoch 333/500\n",
      "21000/21000 [==============================] - 1s 45us/sample - loss: 0.1429\n",
      "Epoch 334/500\n",
      "21000/21000 [==============================] - 1s 46us/sample - loss: 0.1426\n",
      "Epoch 335/500\n",
      "21000/21000 [==============================] - 1s 45us/sample - loss: 0.1429\n",
      "Epoch 336/500\n",
      "21000/21000 [==============================] - 1s 46us/sample - loss: 0.1426\n",
      "Epoch 337/500\n",
      "21000/21000 [==============================] - 1s 45us/sample - loss: 0.1430\n",
      "Epoch 338/500\n",
      "21000/21000 [==============================] - 1s 46us/sample - loss: 0.1428\n",
      "Epoch 339/500\n",
      "21000/21000 [==============================] - 1s 45us/sample - loss: 0.1428\n",
      "Epoch 340/500\n",
      "21000/21000 [==============================] - 1s 46us/sample - loss: 0.1430\n",
      "Epoch 341/500\n",
      "21000/21000 [==============================] - 1s 45us/sample - loss: 0.1426\n",
      "Epoch 342/500\n",
      "21000/21000 [==============================] - 1s 46us/sample - loss: 0.1429\n",
      "Epoch 343/500\n",
      "21000/21000 [==============================] - 1s 46us/sample - loss: 0.1429\n",
      "Epoch 344/500\n",
      "21000/21000 [==============================] - 1s 45us/sample - loss: 0.1429\n",
      "Epoch 345/500\n",
      "21000/21000 [==============================] - 1s 46us/sample - loss: 0.1427\n",
      "Epoch 346/500\n",
      "21000/21000 [==============================] - 1s 46us/sample - loss: 0.1428\n",
      "Epoch 347/500\n",
      "21000/21000 [==============================] - 1s 45us/sample - loss: 0.1429\n",
      "Epoch 348/500\n",
      "21000/21000 [==============================] - 1s 46us/sample - loss: 0.1424\n",
      "Epoch 349/500\n",
      "21000/21000 [==============================] - 1s 45us/sample - loss: 0.1430\n",
      "Epoch 350/500\n",
      "21000/21000 [==============================] - 1s 46us/sample - loss: 0.1425\n",
      "Epoch 351/500\n",
      "21000/21000 [==============================] - 1s 45us/sample - loss: 0.1424\n",
      "Epoch 352/500\n",
      "21000/21000 [==============================] - 1s 46us/sample - loss: 0.1428\n",
      "Epoch 353/500\n",
      "21000/21000 [==============================] - 1s 46us/sample - loss: 0.14260s - loss: \n",
      "Epoch 354/500\n",
      "21000/21000 [==============================] - 1s 46us/sample - loss: 0.1427\n",
      "Epoch 355/500\n",
      "21000/21000 [==============================] - 1s 46us/sample - loss: 0.1427\n",
      "Epoch 356/500\n",
      "21000/21000 [==============================] - 1s 47us/sample - loss: 0.1429\n",
      "Epoch 357/500\n",
      "21000/21000 [==============================] - 1s 46us/sample - loss: 0.1425\n",
      "Epoch 358/500\n",
      "21000/21000 [==============================] - 1s 46us/sample - loss: 0.1426\n",
      "Epoch 359/500\n",
      "21000/21000 [==============================] - 1s 46us/sample - loss: 0.1429\n",
      "Epoch 360/500\n",
      "21000/21000 [==============================] - 1s 43us/sample - loss: 0.1428\n",
      "Epoch 361/500\n",
      "21000/21000 [==============================] - 1s 43us/sample - loss: 0.1428\n",
      "Epoch 362/500\n",
      "21000/21000 [==============================] - ETA: 0s - loss: 0.142 - 1s 43us/sample - loss: 0.1429\n",
      "Epoch 363/500\n",
      "21000/21000 [==============================] - 1s 43us/sample - loss: 0.1428\n",
      "Epoch 364/500\n",
      "21000/21000 [==============================] - 1s 43us/sample - loss: 0.1427\n",
      "Epoch 365/500\n",
      "21000/21000 [==============================] - 1s 44us/sample - loss: 0.1427\n",
      "Epoch 366/500\n",
      "21000/21000 [==============================] - 1s 43us/sample - loss: 0.1426\n",
      "Epoch 367/500\n",
      "21000/21000 [==============================] - 1s 43us/sample - loss: 0.1429\n",
      "Epoch 368/500\n",
      "21000/21000 [==============================] - 1s 43us/sample - loss: 0.1428\n",
      "Epoch 369/500\n",
      "21000/21000 [==============================] - 1s 43us/sample - loss: 0.1428\n",
      "Epoch 370/500\n",
      "21000/21000 [==============================] - 1s 43us/sample - loss: 0.1426\n",
      "Epoch 371/500\n",
      "21000/21000 [==============================] - 1s 43us/sample - loss: 0.1428\n",
      "Epoch 372/500\n",
      "21000/21000 [==============================] - 1s 43us/sample - loss: 0.14280s - l\n",
      "Epoch 373/500\n",
      "21000/21000 [==============================] - 1s 44us/sample - loss: 0.1423\n",
      "Epoch 374/500\n",
      "21000/21000 [==============================] - ETA: 0s - loss: 0.143 - 1s 43us/sample - loss: 0.1430\n",
      "Epoch 375/500\n",
      "21000/21000 [==============================] - 1s 44us/sample - loss: 0.1428\n",
      "Epoch 376/500\n",
      "21000/21000 [==============================] - 1s 47us/sample - loss: 0.1429\n",
      "Epoch 377/500\n",
      "21000/21000 [==============================] - 1s 54us/sample - loss: 0.1424\n",
      "Epoch 378/500\n",
      "21000/21000 [==============================] - 1s 50us/sample - loss: 0.1425\n",
      "Epoch 379/500\n",
      "21000/21000 [==============================] - 1s 48us/sample - loss: 0.1424\n",
      "Epoch 380/500\n",
      "21000/21000 [==============================] - 1s 47us/sample - loss: 0.1425\n",
      "Epoch 381/500\n",
      "21000/21000 [==============================] - 1s 46us/sample - loss: 0.1423\n",
      "Epoch 382/500\n",
      "21000/21000 [==============================] - 1s 46us/sample - loss: 0.1425\n",
      "Epoch 383/500\n",
      "21000/21000 [==============================] - 1s 49us/sample - loss: 0.1422\n",
      "Epoch 384/500\n",
      "21000/21000 [==============================] - 1s 50us/sample - loss: 0.1425\n",
      "Epoch 385/500\n",
      "21000/21000 [==============================] - 1s 46us/sample - loss: 0.1426\n",
      "Epoch 386/500\n",
      "21000/21000 [==============================] - 1s 46us/sample - loss: 0.1426\n",
      "Epoch 387/500\n",
      "21000/21000 [==============================] - 1s 48us/sample - loss: 0.1425\n",
      "Epoch 388/500\n",
      "21000/21000 [==============================] - 1s 47us/sample - loss: 0.1426\n",
      "Epoch 389/500\n",
      "21000/21000 [==============================] - 1s 47us/sample - loss: 0.1423\n",
      "Epoch 390/500\n",
      "21000/21000 [==============================] - 1s 47us/sample - loss: 0.1427\n",
      "Epoch 391/500\n",
      "21000/21000 [==============================] - 1s 48us/sample - loss: 0.1425\n",
      "Epoch 392/500\n",
      "21000/21000 [==============================] - 1s 47us/sample - loss: 0.1427\n",
      "Epoch 393/500\n",
      "21000/21000 [==============================] - 1s 47us/sample - loss: 0.1424\n",
      "Epoch 394/500\n",
      "21000/21000 [==============================] - 1s 47us/sample - loss: 0.1424\n",
      "Epoch 395/500\n",
      "21000/21000 [==============================] - 1s 47us/sample - loss: 0.1426\n",
      "Epoch 396/500\n",
      "21000/21000 [==============================] - 1s 47us/sample - loss: 0.1424\n",
      "Epoch 397/500\n",
      "21000/21000 [==============================] - 1s 48us/sample - loss: 0.1426\n",
      "Epoch 398/500\n",
      "21000/21000 [==============================] - 1s 48us/sample - loss: 0.1426\n",
      "Epoch 399/500\n",
      "21000/21000 [==============================] - 1s 47us/sample - loss: 0.1422\n",
      "Epoch 400/500\n",
      "21000/21000 [==============================] - 1s 47us/sample - loss: 0.1426\n",
      "Epoch 401/500\n",
      "21000/21000 [==============================] - 1s 47us/sample - loss: 0.1424\n",
      "Epoch 402/500\n",
      "21000/21000 [==============================] - 1s 47us/sample - loss: 0.1425\n",
      "Epoch 403/500\n",
      "21000/21000 [==============================] - 1s 47us/sample - loss: 0.1425\n",
      "Epoch 404/500\n",
      "21000/21000 [==============================] - 1s 47us/sample - loss: 0.1425\n",
      "Epoch 405/500\n",
      "21000/21000 [==============================] - 1s 47us/sample - loss: 0.1425\n",
      "Epoch 406/500\n",
      "21000/21000 [==============================] - 1s 47us/sample - loss: 0.1426\n",
      "Epoch 407/500\n",
      "21000/21000 [==============================] - 1s 47us/sample - loss: 0.1427\n",
      "Epoch 408/500\n",
      "21000/21000 [==============================] - 1s 47us/sample - loss: 0.1422\n",
      "Epoch 409/500\n",
      "21000/21000 [==============================] - 1s 47us/sample - loss: 0.1425\n",
      "Epoch 410/500\n",
      "21000/21000 [==============================] - 1s 47us/sample - loss: 0.1425\n",
      "Epoch 411/500\n",
      "21000/21000 [==============================] - 1s 48us/sample - loss: 0.1421\n",
      "Epoch 412/500\n",
      "21000/21000 [==============================] - 1s 48us/sample - loss: 0.14240s - loss: 0.\n",
      "Epoch 413/500\n",
      "21000/21000 [==============================] - 1s 47us/sample - loss: 0.1424\n",
      "Epoch 414/500\n",
      "21000/21000 [==============================] - 1s 47us/sample - loss: 0.1424\n",
      "Epoch 415/500\n",
      "21000/21000 [==============================] - 1s 47us/sample - loss: 0.1426\n",
      "Epoch 416/500\n",
      "21000/21000 [==============================] - 1s 47us/sample - loss: 0.1421\n",
      "Epoch 417/500\n",
      "21000/21000 [==============================] - 1s 47us/sample - loss: 0.1422\n",
      "Epoch 418/500\n",
      "21000/21000 [==============================] - 1s 48us/sample - loss: 0.1420\n",
      "Epoch 419/500\n",
      "21000/21000 [==============================] - 1s 47us/sample - loss: 0.1421\n",
      "Epoch 420/500\n",
      "21000/21000 [==============================] - 1s 47us/sample - loss: 0.1425\n",
      "Epoch 421/500\n",
      "21000/21000 [==============================] - 1s 47us/sample - loss: 0.1421\n",
      "Epoch 422/500\n",
      "21000/21000 [==============================] - 1s 48us/sample - loss: 0.1425\n",
      "Epoch 423/500\n",
      "21000/21000 [==============================] - 1s 49us/sample - loss: 0.1423\n",
      "Epoch 424/500\n",
      "21000/21000 [==============================] - 1s 47us/sample - loss: 0.1423\n",
      "Epoch 425/500\n",
      "21000/21000 [==============================] - 1s 47us/sample - loss: 0.1423\n",
      "Epoch 426/500\n",
      "21000/21000 [==============================] - 1s 47us/sample - loss: 0.1420\n",
      "Epoch 427/500\n",
      "21000/21000 [==============================] - 1s 47us/sample - loss: 0.1422\n",
      "Epoch 428/500\n",
      "21000/21000 [==============================] - 1s 48us/sample - loss: 0.1422\n",
      "Epoch 429/500\n",
      "21000/21000 [==============================] - 1s 48us/sample - loss: 0.1424\n",
      "Epoch 430/500\n",
      "21000/21000 [==============================] - 1s 47us/sample - loss: 0.1424\n",
      "Epoch 431/500\n",
      "21000/21000 [==============================] - 1s 47us/sample - loss: 0.1421\n",
      "Epoch 432/500\n",
      "21000/21000 [==============================] - 1s 47us/sample - loss: 0.1423\n",
      "Epoch 433/500\n",
      "21000/21000 [==============================] - 1s 48us/sample - loss: 0.1422\n",
      "Epoch 434/500\n",
      "21000/21000 [==============================] - 1s 52us/sample - loss: 0.1421\n",
      "Epoch 435/500\n",
      "21000/21000 [==============================] - 1s 51us/sample - loss: 0.1421\n",
      "Epoch 436/500\n",
      "21000/21000 [==============================] - 1s 50us/sample - loss: 0.1422\n",
      "Epoch 437/500\n",
      "21000/21000 [==============================] - 1s 50us/sample - loss: 0.1422\n",
      "Epoch 438/500\n",
      "21000/21000 [==============================] - 1s 48us/sample - loss: 0.1424\n",
      "Epoch 439/500\n",
      "21000/21000 [==============================] - 1s 48us/sample - loss: 0.1422\n",
      "Epoch 440/500\n",
      "21000/21000 [==============================] - 1s 47us/sample - loss: 0.1423\n",
      "Epoch 441/500\n",
      "21000/21000 [==============================] - 1s 48us/sample - loss: 0.1422\n",
      "Epoch 442/500\n",
      "21000/21000 [==============================] - 1s 48us/sample - loss: 0.1422\n",
      "Epoch 443/500\n",
      "21000/21000 [==============================] - 1s 48us/sample - loss: 0.1421\n",
      "Epoch 444/500\n",
      "21000/21000 [==============================] - 1s 47us/sample - loss: 0.1423\n",
      "Epoch 445/500\n",
      "21000/21000 [==============================] - 1s 48us/sample - loss: 0.1421\n",
      "Epoch 446/500\n",
      "21000/21000 [==============================] - 1s 48us/sample - loss: 0.1422\n",
      "Epoch 447/500\n",
      "21000/21000 [==============================] - 1s 52us/sample - loss: 0.1421\n",
      "Epoch 448/500\n",
      "21000/21000 [==============================] - 1s 51us/sample - loss: 0.1421\n",
      "Epoch 449/500\n",
      "21000/21000 [==============================] - 1s 47us/sample - loss: 0.1421\n",
      "Epoch 450/500\n",
      "21000/21000 [==============================] - 1s 45us/sample - loss: 0.1423\n",
      "Epoch 451/500\n",
      "21000/21000 [==============================] - 1s 45us/sample - loss: 0.1417\n",
      "Epoch 452/500\n",
      "21000/21000 [==============================] - 1s 44us/sample - loss: 0.1421\n",
      "Epoch 453/500\n",
      "21000/21000 [==============================] - 1s 45us/sample - loss: 0.1422\n",
      "Epoch 454/500\n",
      "21000/21000 [==============================] - 1s 44us/sample - loss: 0.1420\n",
      "Epoch 455/500\n",
      "21000/21000 [==============================] - 1s 46us/sample - loss: 0.1422\n",
      "Epoch 456/500\n",
      "21000/21000 [==============================] - 1s 45us/sample - loss: 0.14190s - loss\n",
      "Epoch 457/500\n",
      "21000/21000 [==============================] - 1s 45us/sample - loss: 0.1421\n",
      "Epoch 458/500\n",
      "21000/21000 [==============================] - 1s 45us/sample - loss: 0.1419\n",
      "Epoch 459/500\n",
      "21000/21000 [==============================] - 1s 45us/sample - loss: 0.1424\n",
      "Epoch 460/500\n",
      "21000/21000 [==============================] - 1s 45us/sample - loss: 0.1420\n",
      "Epoch 461/500\n",
      "21000/21000 [==============================] - 1s 45us/sample - loss: 0.14200s - loss: 0.141\n",
      "Epoch 462/500\n",
      "21000/21000 [==============================] - 1s 46us/sample - loss: 0.1422\n",
      "Epoch 463/500\n",
      "21000/21000 [==============================] - 1s 45us/sample - loss: 0.1421\n",
      "Epoch 464/500\n",
      "21000/21000 [==============================] - 1s 46us/sample - loss: 0.1421\n",
      "Epoch 465/500\n",
      "21000/21000 [==============================] - 1s 45us/sample - loss: 0.1419\n",
      "Epoch 466/500\n",
      "21000/21000 [==============================] - 1s 45us/sample - loss: 0.1420\n",
      "Epoch 467/500\n",
      "21000/21000 [==============================] - 1s 45us/sample - loss: 0.1420\n",
      "Epoch 468/500\n",
      "21000/21000 [==============================] - 1s 45us/sample - loss: 0.1420\n",
      "Epoch 469/500\n",
      "21000/21000 [==============================] - 1s 46us/sample - loss: 0.1422\n",
      "Epoch 470/500\n",
      "21000/21000 [==============================] - 1s 45us/sample - loss: 0.1421\n",
      "Epoch 471/500\n",
      "21000/21000 [==============================] - 1s 45us/sample - loss: 0.1421\n",
      "Epoch 472/500\n",
      "21000/21000 [==============================] - 1s 45us/sample - loss: 0.1423\n",
      "Epoch 473/500\n",
      "21000/21000 [==============================] - 1s 45us/sample - loss: 0.1422\n",
      "Epoch 474/500\n",
      "21000/21000 [==============================] - 1s 45us/sample - loss: 0.1419\n",
      "Epoch 475/500\n",
      "21000/21000 [==============================] - 1s 46us/sample - loss: 0.1421\n",
      "Epoch 476/500\n",
      "21000/21000 [==============================] - 1s 45us/sample - loss: 0.1421\n",
      "Epoch 477/500\n",
      "21000/21000 [==============================] - 1s 46us/sample - loss: 0.1420\n",
      "Epoch 478/500\n",
      "21000/21000 [==============================] - 1s 45us/sample - loss: 0.1423\n",
      "Epoch 479/500\n",
      "21000/21000 [==============================] - 1s 47us/sample - loss: 0.1420\n",
      "Epoch 480/500\n",
      "21000/21000 [==============================] - 1s 45us/sample - loss: 0.1422\n",
      "Epoch 481/500\n",
      "21000/21000 [==============================] - 1s 46us/sample - loss: 0.1422\n",
      "Epoch 482/500\n",
      "21000/21000 [==============================] - 1s 45us/sample - loss: 0.1421\n",
      "Epoch 483/500\n",
      "21000/21000 [==============================] - 1s 46us/sample - loss: 0.1420\n",
      "Epoch 484/500\n",
      "21000/21000 [==============================] - 1s 45us/sample - loss: 0.1420\n",
      "Epoch 485/500\n",
      "21000/21000 [==============================] - 1s 45us/sample - loss: 0.1422\n",
      "Epoch 486/500\n",
      "21000/21000 [==============================] - 1s 46us/sample - loss: 0.1422\n",
      "Epoch 487/500\n",
      "21000/21000 [==============================] - 1s 46us/sample - loss: 0.1420\n",
      "Epoch 488/500\n",
      "21000/21000 [==============================] - 1s 46us/sample - loss: 0.1422\n",
      "Epoch 489/500\n",
      "21000/21000 [==============================] - 1s 45us/sample - loss: 0.1422\n",
      "Epoch 490/500\n",
      "21000/21000 [==============================] - 1s 47us/sample - loss: 0.1422\n",
      "Epoch 491/500\n",
      "21000/21000 [==============================] - 1s 45us/sample - loss: 0.1420\n",
      "Epoch 492/500\n",
      "21000/21000 [==============================] - 1s 46us/sample - loss: 0.1420\n",
      "Epoch 493/500\n",
      "21000/21000 [==============================] - 1s 45us/sample - loss: 0.1420\n",
      "Epoch 494/500\n",
      "21000/21000 [==============================] - 1s 46us/sample - loss: 0.1421\n",
      "Epoch 495/500\n",
      "21000/21000 [==============================] - 1s 45us/sample - loss: 0.1420\n",
      "Epoch 496/500\n",
      "21000/21000 [==============================] - 1s 46us/sample - loss: 0.1422\n",
      "Epoch 497/500\n",
      "21000/21000 [==============================] - 1s 45us/sample - loss: 0.1421\n",
      "Epoch 498/500\n",
      "21000/21000 [==============================] - 1s 46us/sample - loss: 0.1421\n",
      "Epoch 499/500\n",
      "21000/21000 [==============================] - 1s 46us/sample - loss: 0.1420\n",
      "Epoch 500/500\n",
      "21000/21000 [==============================] - 1s 46us/sample - loss: 0.1421\n"
     ]
    },
    {
     "data": {
      "text/plain": [
       "<tensorflow.python.keras.callbacks.History at 0x29e80f7ab88>"
      ]
     },
     "execution_count": 368,
     "metadata": {},
     "output_type": "execute_result"
    }
   ],
   "source": [
    "model.fit(X_train,y_train, epochs=500)"
   ]
  },
  {
   "cell_type": "code",
   "execution_count": 369,
   "metadata": {},
   "outputs": [],
   "source": [
    "loss_df = pd.DataFrame(model.history.history)"
   ]
  },
  {
   "cell_type": "code",
   "execution_count": 370,
   "metadata": {},
   "outputs": [
    {
     "data": {
      "text/plain": [
       "<matplotlib.axes._subplots.AxesSubplot at 0x29e83f54488>"
      ]
     },
     "execution_count": 370,
     "metadata": {},
     "output_type": "execute_result"
    },
    {
     "data": {
      "image/png": "[encoded data removed]",
      "text/plain": [
       "<Figure size 432x288 with 1 Axes>"
      ]
     },
     "metadata": {
      "needs_background": "light"
     },
     "output_type": "display_data"
    }
   ],
   "source": [
    "loss_df.plot()"
   ]
  },
  {
   "cell_type": "code",
   "execution_count": 373,
   "metadata": {},
   "outputs": [
    {
     "data": {
      "text/plain": [
       "0.14376725057760875"
      ]
     },
     "execution_count": 373,
     "metadata": {},
     "output_type": "execute_result"
    }
   ],
   "source": [
    "model.evaluate(X_test,y_test, verbose=0)"
   ]
  },
  {
   "cell_type": "code",
   "execution_count": 375,
   "metadata": {},
   "outputs": [],
   "source": [
    "pred = model.predict(X_test)"
   ]
  },
  {
   "cell_type": "code",
   "execution_count": 379,
   "metadata": {},
   "outputs": [],
   "source": [
    "test_predictions = pd.Series(pred.reshape(180000,))"
   ]
  },
  {
   "cell_type": "code",
   "execution_count": 380,
   "metadata": {},
   "outputs": [],
   "source": [
    "pred_df = pd.DataFrame(y_test, columns=['Test True Y'])"
   ]
  },
  {
   "cell_type": "code",
   "execution_count": 381,
   "metadata": {},
   "outputs": [],
   "source": [
    "pred_df = pd.concat([pred_df, test_predictions],axis=1)"
   ]
  },
  {
   "cell_type": "code",
   "execution_count": 382,
   "metadata": {},
   "outputs": [],
   "source": [
    "pred_df.columns = ['Test True Y','Predictions']"
   ]
  },
  {
   "cell_type": "code",
   "execution_count": 392,
   "metadata": {},
   "outputs": [
    {
     "data": {
      "text/html": [
       "<div>\n",
       "<style scoped>\n",
       "    .dataframe tbody tr th:only-of-type {\n",
       "        vertical-align: middle;\n",
       "    }\n",
       "\n",
       "    .dataframe tbody tr th {\n",
       "        vertical-align: top;\n",
       "    }\n",
       "\n",
       "    .dataframe thead th {\n",
       "        text-align: right;\n",
       "    }\n",
       "</style>\n",
       "<table border=\"1\" class=\"dataframe\">\n",
       "  <thead>\n",
       "    <tr style=\"text-align: right;\">\n",
       "      <th></th>\n",
       "      <th>Test True Y</th>\n",
       "      <th>Predictions</th>\n",
       "    </tr>\n",
       "  </thead>\n",
       "  <tbody>\n",
       "    <tr>\n",
       "      <th>0</th>\n",
       "      <td>0.0</td>\n",
       "      <td>0.144267</td>\n",
       "    </tr>\n",
       "    <tr>\n",
       "      <th>1</th>\n",
       "      <td>0.0</td>\n",
       "      <td>0.145224</td>\n",
       "    </tr>\n",
       "    <tr>\n",
       "      <th>2</th>\n",
       "      <td>0.0</td>\n",
       "      <td>0.143605</td>\n",
       "    </tr>\n",
       "    <tr>\n",
       "      <th>3</th>\n",
       "      <td>0.0</td>\n",
       "      <td>0.143308</td>\n",
       "    </tr>\n",
       "    <tr>\n",
       "      <th>4</th>\n",
       "      <td>1.0</td>\n",
       "      <td>0.144710</td>\n",
       "    </tr>\n",
       "    <tr>\n",
       "      <th>5</th>\n",
       "      <td>0.0</td>\n",
       "      <td>0.144995</td>\n",
       "    </tr>\n",
       "    <tr>\n",
       "      <th>6</th>\n",
       "      <td>1.0</td>\n",
       "      <td>0.145782</td>\n",
       "    </tr>\n",
       "    <tr>\n",
       "      <th>7</th>\n",
       "      <td>0.0</td>\n",
       "      <td>0.145495</td>\n",
       "    </tr>\n",
       "    <tr>\n",
       "      <th>8</th>\n",
       "      <td>0.0</td>\n",
       "      <td>0.144208</td>\n",
       "    </tr>\n",
       "    <tr>\n",
       "      <th>9</th>\n",
       "      <td>0.0</td>\n",
       "      <td>0.145611</td>\n",
       "    </tr>\n",
       "  </tbody>\n",
       "</table>\n",
       "</div>"
      ],
      "text/plain": [
       "   Test True Y  Predictions\n",
       "0          0.0     0.144267\n",
       "1          0.0     0.145224\n",
       "2          0.0     0.143605\n",
       "3          0.0     0.143308\n",
       "4          1.0     0.144710\n",
       "5          0.0     0.144995\n",
       "6          1.0     0.145782\n",
       "7          0.0     0.145495\n",
       "8          0.0     0.144208\n",
       "9          0.0     0.145611"
      ]
     },
     "execution_count": 392,
     "metadata": {},
     "output_type": "execute_result"
    }
   ],
   "source": [
    "pred_df.head(10)"
   ]
  }
 ],
 "metadata": {
  "kernelspec": {
   "display_name": "Python 3",
   "language": "python",
   "name": "python3"
  },
  "language_info": {
   "codemirror_mode": {
    "name": "ipython",
    "version": 3
   },
   "file_extension": ".py",
   "mimetype": "text/x-python",
   "name": "python",
   "nbconvert_exporter": "python",
   "pygments_lexer": "ipython3",
   "version": "3.7.6"
  }
 },
 "nbformat": 4,
 "nbformat_minor": 4
}
